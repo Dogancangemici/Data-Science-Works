{
 "cells": [
  {
   "cell_type": "code",
   "execution_count": 1,
   "metadata": {
    "collapsed": true
   },
   "outputs": [],
   "source": [
    "import os\n",
    "import numpy as np\n",
    "from PIL import Image"
   ]
  },
  {
   "cell_type": "markdown",
   "metadata": {},
   "source": [
    "# DATASET"
   ]
  },
  {
   "cell_type": "code",
   "execution_count": 2,
   "metadata": {
    "collapsed": true
   },
   "outputs": [],
   "source": [
    "eyewear_encode = {'open': 0, \"sunglasses\":1}"
   ]
  },
  {
   "cell_type": "code",
   "execution_count": 3,
   "metadata": {},
   "outputs": [],
   "source": [
    "# Training Data\n",
    "train_files =list(map(lambda x: os.path.join(\"TrainingSet/\",x ),os.listdir(\"TrainingSet\")))\n",
    "\n",
    "X_train = []\n",
    "y_train = []\n",
    "\n",
    "for i in train_files:\n",
    "    if i.endswith(\".jpg\"):\n",
    "        eyewear = eyewear_encode[i.split(\"/\")[1].split(\"_\")[3].strip(\".jpg\")]\n",
    "        y_train.append(eyewear)\n",
    "        m = np.asarray(Image.open(i)).flatten()\n",
    "        X_train.append(m)\n",
    "        \n",
    "# Test Data\n",
    "test_files =list(map(lambda x: os.path.join(\"TestSet/\",x ), os.listdir(\"TestSet/\")))\n",
    "\n",
    "X_test = []\n",
    "y_test = []\n",
    "\n",
    "for i in test_files:\n",
    "    if i.endswith(\".jpg\"):\n",
    "        eyewear = eyewear_encode[i.split(\"/\")[1].split(\"_\")[3].strip(\".jpg\")]\n",
    "        y_test.append(eyewear)\n",
    "        m = np.asarray(Image.open(i)).flatten()\n",
    "        X_test.append(m)\n",
    "        \n",
    "X_train = np.array(X_train)\n",
    "y_train = np.array(y_train)\n",
    "\n",
    "X_test = np.array(X_test)\n",
    "y_test = np.array(y_test)"
   ]
  },
  {
   "cell_type": "markdown",
   "metadata": {},
   "source": [
    "# DECISION TREE"
   ]
  },
  {
   "cell_type": "markdown",
   "metadata": {},
   "source": [
    "## part a"
   ]
  },
  {
   "cell_type": "code",
   "execution_count": 5,
   "metadata": {},
   "outputs": [
    {
     "data": {
      "text/plain": [
       "DecisionTreeClassifier(class_weight=None, criterion='gini', max_depth=2,\n",
       "            max_features=None, max_leaf_nodes=None,\n",
       "            min_impurity_decrease=0.0, min_impurity_split=None,\n",
       "            min_samples_leaf=1, min_samples_split=2,\n",
       "            min_weight_fraction_leaf=0.0, presort=False, random_state=0,\n",
       "            splitter='best')"
      ]
     },
     "execution_count": 5,
     "metadata": {},
     "output_type": "execute_result"
    }
   ],
   "source": [
    "from sklearn import tree\n",
    "decision_tree = tree.DecisionTreeClassifier(random_state = 0, max_depth=2) #creating decision tree with mentioned paramaters\n",
    "decision_tree.fit(X_train,y_train) # fitting training data"
   ]
  },
  {
   "cell_type": "code",
   "execution_count": 8,
   "metadata": {
    "collapsed": true
   },
   "outputs": [],
   "source": [
    "from sklearn.metrics import accuracy_score\n",
    "prediction = decision_tree.predict(X_train)\n",
    "prediction_test = decision_tree.predict(X_test) #predicting values by using decision tree \n",
    "train_acc = accuracy_score(y_train, prediction)  #calculation training accuracy \n",
    "test_acc = accuracy_score(y_test, prediction_test) #test accuracy"
   ]
  },
  {
   "cell_type": "code",
   "execution_count": 6,
   "metadata": {},
   "outputs": [
    {
     "name": "stdout",
     "output_type": "stream",
     "text": [
      "0.7111111111111111\n",
      "0.45555555555555555\n"
     ]
    }
   ],
   "source": [
    "# DON'T REMOVE THIS CELL\n",
    "print(train_acc)\n",
    "print(test_acc)"
   ]
  },
  {
   "cell_type": "markdown",
   "metadata": {},
   "source": [
    "## part b"
   ]
  },
  {
   "cell_type": "markdown",
   "metadata": {},
   "source": [
    "__Did your model performs well? Is bias low or high? What about variance?__"
   ]
  },
  {
   "cell_type": "markdown",
   "metadata": {},
   "source": [
    "It did not perfom well as we see above, it worked in training data better(0.71). We can not say it's really high bias because if it was high bias we would not expect 0.71 training accuracy. In addition, we can say that it is high variance because while we are having good accuracy in training set, we have much lower accuracy in test set."
   ]
  },
  {
   "cell_type": "markdown",
   "metadata": {},
   "source": [
    "# BAGGING MODELS"
   ]
  },
  {
   "cell_type": "markdown",
   "metadata": {},
   "source": [
    "## part c"
   ]
  },
  {
   "cell_type": "code",
   "execution_count": 7,
   "metadata": {},
   "outputs": [
    {
     "data": {
      "text/plain": [
       "BaggingClassifier(base_estimator=DecisionTreeClassifier(class_weight=None, criterion='gini', max_depth=2,\n",
       "            max_features=None, max_leaf_nodes=None,\n",
       "            min_impurity_decrease=0.0, min_impurity_split=None,\n",
       "            min_samples_leaf=1, min_samples_split=2,\n",
       "            min_weight_fraction_leaf=0.0, presort=False, random_state=0,\n",
       "            splitter='best'),\n",
       "         bootstrap=False, bootstrap_features=True, max_features=40,\n",
       "         max_samples=1.0, n_estimators=10, n_jobs=None, oob_score=False,\n",
       "         random_state=0, verbose=0, warm_start=False)"
      ]
     },
     "execution_count": 7,
     "metadata": {},
     "output_type": "execute_result"
    }
   ],
   "source": [
    "from sklearn.ensemble import BaggingClassifier\n",
    "bagging_clf1 = BaggingClassifier(tree.DecisionTreeClassifier(random_state=0,max_depth=2),random_state=0,max_features=40, bootstrap = False, bootstrap_features = True)\n",
    "bagging_clf1.fit(X_train,y_train)  #creating bagging classifier with decision tree classifier and it's parameters\n",
    "#then fitting training data to model"
   ]
  },
  {
   "cell_type": "markdown",
   "metadata": {},
   "source": [
    "## part d"
   ]
  },
  {
   "cell_type": "code",
   "execution_count": 8,
   "metadata": {},
   "outputs": [
    {
     "data": {
      "image/png": "[encoded data removed]",
      "text/plain": [
       "<matplotlib.figure.Figure at 0x91f18d0>"
      ]
     },
     "metadata": {},
     "output_type": "display_data"
    }
   ],
   "source": [
    "# PLOT\n",
    "from sklearn.ensemble import BaggingClassifier\n",
    "accuracy_list = []\n",
    "train_list = []\n",
    "for i in range (1,41):  #trying number of models by using for loop\n",
    "    bagging_clf1 = BaggingClassifier(tree.DecisionTreeClassifier(random_state=0,max_depth=2),random_state=0,n_estimators=i, max_features=40, bootstrap = False, bootstrap_features = True)\n",
    "    bagging_clf1.fit(X_train,y_train)  #n_estimator decides how many models will be used, so i put it i also this model\n",
    "    predictiontrain = bagging_clf1.predict(X_train) #also this model sampling features but not instances\n",
    "    predictiontest = bagging_clf1.predict(X_test) # predictions for each number of model in test data\n",
    "    train_accuracy = accuracy_score(y_train, predictiontrain) #calculation of training accuracy for each number of models\n",
    "    test_accuracy = accuracy_score(y_test,predictiontest)#calculation of test accuracy for each number of models\n",
    "    accuracy_list.append(test_accuracy) #appending training accuracy into list\n",
    "    train_list.append(train_accuracy) # appending test accuracy into list\n",
    "import matplotlib\n",
    "import matplotlib.pyplot as plt\n",
    "plt.plot(accuracy_list,\"b-+\", label='test') # plotting for test accuracy by using accuracy list\n",
    "plt.legend(loc=\"lower right\", fontsize=12)  \n",
    "plt.show()"
   ]
  },
  {
   "cell_type": "markdown",
   "metadata": {},
   "source": [
    "\n",
    "## part e"
   ]
  },
  {
   "cell_type": "markdown",
   "metadata": {},
   "source": [
    "__What is the best number for the number of models in your model? (If there are several best numbers with same accuracy, report the highest number). Calculate train and test accuracy of the bagging model  which has the best number of models.__"
   ]
  },
  {
   "cell_type": "markdown",
   "metadata": {},
   "source": [
    "If I only observe the test data I would say between 29,30,31 but I wanted to make sure and tried with training data and saw so similar range as I saw in test data. So the best number is 30. If I need pick one of it it is 30. And I will find accuracies for 30 models."
   ]
  },
  {
   "cell_type": "code",
   "execution_count": 9,
   "metadata": {},
   "outputs": [],
   "source": [
    "bagging_clf30 = BaggingClassifier(tree.DecisionTreeClassifier(random_state=0,max_depth=2),random_state=0,n_estimators=30,max_features=40, bootstrap = False, bootstrap_features = True)\n",
    "bagging_clf30.fit(X_train,y_train) #creating bagging model with best number of estimators \n",
    "best_predictiontrain = bagging_clf30.predict(X_train)\n",
    "best_predictiontest = bagging_clf30.predict(X_test)  #predictions and calculations for accuracy\n",
    "train_acc = accuracy_score(y_train, best_predictiontrain)\n",
    "test_acc = accuracy_score(y_test,best_predictiontest)"
   ]
  },
  {
   "cell_type": "code",
   "execution_count": 10,
   "metadata": {},
   "outputs": [
    {
     "name": "stdout",
     "output_type": "stream",
     "text": [
      "0.9111111111111111\n",
      "0.7666666666666667\n"
     ]
    }
   ],
   "source": [
    "# DON'T REMOVE THIS CELL\n",
    "print(train_acc)\n",
    "print(test_acc)"
   ]
  },
  {
   "cell_type": "markdown",
   "metadata": {},
   "source": [
    "## part f"
   ]
  },
  {
   "cell_type": "markdown",
   "metadata": {},
   "source": [
    "__Compare the decision tree classifier in part a and best bagging classifier in part e in terms of accuracy, bias, and variance.__"
   ]
  },
  {
   "cell_type": "markdown",
   "metadata": {},
   "source": [
    "Here both accuraccy increased in training and test as compared to part a. we can say that it's not much high variance and there is low bias because both accuracies are high."
   ]
  },
  {
   "cell_type": "markdown",
   "metadata": {},
   "source": [
    "## part g"
   ]
  },
  {
   "cell_type": "code",
   "execution_count": 11,
   "metadata": {
    "collapsed": true
   },
   "outputs": [],
   "source": [
    "bagging_clf2 =  BaggingClassifier(tree.DecisionTreeClassifier(random_state=0,max_depth=2),random_state=0,max_samples = 1.0,max_features=40, bootstrap = True, bootstrap_features = False)\n",
    "#creating bagging for sampling instances but not features"
   ]
  },
  {
   "cell_type": "markdown",
   "metadata": {},
   "source": [
    "## part h"
   ]
  },
  {
   "cell_type": "code",
   "execution_count": 12,
   "metadata": {},
   "outputs": [
    {
     "data": {
      "image/png": "[encoded data removed]",
      "text/plain": [
       "<matplotlib.figure.Figure at 0xb2ed5c0>"
      ]
     },
     "metadata": {},
     "output_type": "display_data"
    }
   ],
   "source": [
    "# PLOT\n",
    "accuracy_list2 = []\n",
    "train_list2 = []\n",
    "for k in range (1,41):\n",
    "    bagging_clf2 = BaggingClassifier(tree.DecisionTreeClassifier(random_state=0,max_depth=2),n_estimators=k,random_state=0,max_samples = 1.0,max_features=40, bootstrap = True, bootstrap_features = False)\n",
    "    bagging_clf2.fit(X_train,y_train)\n",
    "    predictiontrain2 = bagging_clf2.predict(X_train) #same thing I have done above but only difference here model \n",
    "    predictiontest2 = bagging_clf2.predict(X_test) # sampling instances not features here\n",
    "    train_accuracy2 = accuracy_score(y_train, predictiontrain2)\n",
    "    test_accuracy2 = accuracy_score(y_test,predictiontest2)\n",
    "    accuracy_list2.append(test_accuracy2)\n",
    "    train_list2.append(train_accuracy2)\n",
    "import matplotlib\n",
    "import matplotlib.pyplot as plt\n",
    "plt.plot(accuracy_list2,\"b-+\", label='test') \n",
    "plt.legend(loc=\"lower right\", fontsize=12)  # for text\n",
    "plt.show()"
   ]
  },
  {
   "cell_type": "code",
   "execution_count": 13,
   "metadata": {},
   "outputs": [
    {
     "name": "stdout",
     "output_type": "stream",
     "text": [
      "[0.6555555555555556, 0.6111111111111112, 0.6222222222222222, 0.6222222222222222, 0.6222222222222222, 0.5777777777777777, 0.6, 0.6222222222222222, 0.6111111111111112, 0.6111111111111112, 0.6111111111111112, 0.6666666666666666, 0.6555555555555556, 0.6444444444444445, 0.6777777777777778, 0.7, 0.7111111111111111, 0.7222222222222222, 0.7222222222222222, 0.7444444444444445, 0.7333333333333333, 0.7333333333333333, 0.7444444444444445, 0.7555555555555555, 0.7333333333333333, 0.7333333333333333, 0.7222222222222222, 0.7555555555555555, 0.7666666666666667, 0.7666666666666667, 0.7555555555555555, 0.7777777777777778, 0.7777777777777778, 0.7666666666666667, 0.7666666666666667, 0.7666666666666667, 0.7444444444444445, 0.7333333333333333, 0.7555555555555555, 0.7555555555555555]\n",
      "[0.6761904761904762, 0.7523809523809524, 0.7492063492063492, 0.8063492063492064, 0.8095238095238095, 0.8095238095238095, 0.834920634920635, 0.834920634920635, 0.8539682539682539, 0.8603174603174604, 0.8761904761904762, 0.8761904761904762, 0.8761904761904762, 0.8698412698412699, 0.8825396825396825, 0.8761904761904762, 0.8825396825396825, 0.8888888888888888, 0.8857142857142857, 0.8952380952380953, 0.9047619047619048, 0.9015873015873016, 0.9111111111111111, 0.9047619047619048, 0.9079365079365079, 0.9111111111111111, 0.9206349206349206, 0.9238095238095239, 0.926984126984127, 0.926984126984127, 0.926984126984127, 0.9238095238095239, 0.9238095238095239, 0.9174603174603174, 0.9238095238095239, 0.9206349206349206, 0.9111111111111111, 0.9111111111111111, 0.9206349206349206, 0.9142857142857143]\n"
     ]
    }
   ],
   "source": [
    "print accuracy_list2 \n",
    "print train_list2 "
   ]
  },
  {
   "cell_type": "markdown",
   "metadata": {},
   "source": [
    "## part i"
   ]
  },
  {
   "cell_type": "markdown",
   "metadata": {},
   "source": [
    "__What is the best number for the number of models in your model? (If there are several best numbers with same accuracy, report the highest number). Calculate train and test accuracy of the bagging model which has the best number of models.__"
   ]
  },
  {
   "cell_type": "markdown",
   "metadata": {},
   "source": [
    "The best number for the number of models is 33. There are again several same values but I also checked training data and I decided to pick 33. So I will calculate accuracy for 33 models!"
   ]
  },
  {
   "cell_type": "code",
   "execution_count": 14,
   "metadata": {},
   "outputs": [],
   "source": [
    "bagging_clf_best = BaggingClassifier(tree.DecisionTreeClassifier(random_state=0,max_depth=2),n_estimators=33,random_state=0,max_samples = 1.0,max_features=40, bootstrap = True, bootstrap_features = False)\n",
    "bagging_clf_best.fit(X_train,y_train)  #n estimators = 33 so it's my best parameters for bagging model with sampling instances not features\n",
    "best_predictiontrain = bagging_clf_best.predict(X_train)\n",
    "best_predictiontest = bagging_clf_best.predict(X_test) #predictions for training and test data with best number of models \n",
    "train_acc = accuracy_score(y_train, best_predictiontrain) # accuracy scores for training and test data\n",
    "test_acc = accuracy_score(y_test,best_predictiontest)"
   ]
  },
  {
   "cell_type": "code",
   "execution_count": 15,
   "metadata": {},
   "outputs": [
    {
     "name": "stdout",
     "output_type": "stream",
     "text": [
      "0.9238095238095239\n",
      "0.7777777777777778\n"
     ]
    }
   ],
   "source": [
    "# DON'T REMOVE THIS CELL\n",
    "print(train_acc)\n",
    "print(test_acc)"
   ]
  },
  {
   "cell_type": "markdown",
   "metadata": {},
   "source": [
    "## part j"
   ]
  },
  {
   "cell_type": "markdown",
   "metadata": {},
   "source": [
    "__Compare the decision tree classifier in part a and best bagging classifier in part i in terms of accuracy, bias, and variance.__"
   ]
  },
  {
   "cell_type": "markdown",
   "metadata": {},
   "source": [
    "Same situation is valid here as it happened in part e. But it is better than part e because of sampling training instances. So both training and test accuracy increased but not in same amount. We can consider as a good accuracy. Bias is not high as well. There is no high variance."
   ]
  },
  {
   "cell_type": "markdown",
   "metadata": {},
   "source": [
    "## part k"
   ]
  },
  {
   "cell_type": "markdown",
   "metadata": {},
   "source": [
    "__Compare two bagging models that you found in part e and part i in terms of accuracy, bias, and variance.__"
   ]
  },
  {
   "cell_type": "markdown",
   "metadata": {},
   "source": [
    "In part i, we can observe a little bit rise we can still say that models in part i is better than part e in accuracy because of sampling instances. Also, we can say that in part e bias is higher than part i and about variance it's same. Models in part i just little bit better than part e."
   ]
  },
  {
   "cell_type": "markdown",
   "metadata": {},
   "source": [
    "## part l"
   ]
  },
  {
   "cell_type": "markdown",
   "metadata": {},
   "source": [
    "__How sampling features and sampling instances affected the performance of your model? Why?__"
   ]
  },
  {
   "cell_type": "markdown",
   "metadata": {},
   "source": [
    " It increased performance because of reducing selection/dimensionality on sample sets. Also, we increased training accuracy as well. Because when we sample it we increase the computing power and randomly select instances or features whatever we sample etc."
   ]
  },
  {
   "cell_type": "markdown",
   "metadata": {},
   "source": [
    "# BOOSTING MODELS"
   ]
  },
  {
   "cell_type": "markdown",
   "metadata": {},
   "source": [
    "## part m"
   ]
  },
  {
   "cell_type": "code",
   "execution_count": 6,
   "metadata": {},
   "outputs": [],
   "source": [
    "from sklearn.ensemble import AdaBoostClassifier\n",
    "adaboost_clf = AdaBoostClassifier(tree.DecisionTreeClassifier(random_state=0, max_depth=2),random_state=0) #creating adaptive boosting model"
   ]
  },
  {
   "cell_type": "markdown",
   "metadata": {},
   "source": [
    "## part n"
   ]
  },
  {
   "cell_type": "code",
   "execution_count": 19,
   "metadata": {},
   "outputs": [
    {
     "name": "stdout",
     "output_type": "stream",
     "text": [
      "[0.7111111111111111, 0.8476190476190476, 0.9047619047619048, 0.9555555555555556, 0.9714285714285714, 0.9841269841269841, 0.9936507936507937, 1.0, 1.0, 1.0, 1.0, 1.0, 1.0, 1.0, 1.0, 1.0, 1.0, 1.0, 1.0, 1.0, 1.0, 1.0, 1.0, 1.0, 1.0, 1.0, 1.0, 1.0, 1.0, 1.0, 1.0, 1.0, 1.0, 1.0, 1.0, 1.0, 1.0, 1.0, 1.0, 1.0, 1.0, 1.0, 1.0, 1.0, 1.0, 1.0, 1.0, 1.0, 1.0, 1.0]\n",
      "[0.45555555555555555, 0.6111111111111112, 0.5666666666666667, 0.5777777777777777, 0.6222222222222222, 0.6333333333333333, 0.5666666666666667, 0.5888888888888889, 0.6666666666666666, 0.5888888888888889, 0.5777777777777777, 0.6333333333333333, 0.6222222222222222, 0.6, 0.6, 0.6222222222222222, 0.5777777777777777, 0.6333333333333333, 0.6111111111111112, 0.6333333333333333, 0.5777777777777777, 0.6, 0.6111111111111112, 0.6111111111111112, 0.5888888888888889, 0.6111111111111112, 0.6222222222222222, 0.6222222222222222, 0.6444444444444445, 0.5888888888888889, 0.6555555555555556, 0.6555555555555556, 0.6111111111111112, 0.6333333333333333, 0.6333333333333333, 0.6222222222222222, 0.6333333333333333, 0.6333333333333333, 0.6444444444444445, 0.6666666666666666, 0.6555555555555556, 0.6444444444444445, 0.6111111111111112, 0.6222222222222222, 0.6, 0.6111111111111112, 0.6444444444444445, 0.6333333333333333, 0.6444444444444445, 0.6333333333333333]\n"
     ]
    }
   ],
   "source": [
    "accuracy_list_ada = []\n",
    "train_list_ada = []\n",
    "for k in range (1,51):\n",
    "    adaboost_clf = AdaBoostClassifier(tree.DecisionTreeClassifier(random_state=0, max_depth=2),n_estimators=k,random_state=0)\n",
    "    adaboost_clf.fit(X_train,y_train) # looking for best number of models from 1 to 50\n",
    "    predictiontrain_ada = adaboost_clf.predict(X_train) # predicting values for training and test data\n",
    "    predictiontest_ada = adaboost_clf.predict(X_test)\n",
    "    train_accuracy_ada = accuracy_score(y_train, predictiontrain_ada) #\n",
    "    test_accuracy_ada = accuracy_score(y_test,predictiontest_ada)\n",
    "    accuracy_list_ada.append(test_accuracy_ada)\n",
    "    train_list_ada.append(train_accuracy_ada)\n",
    "print train_list_ada #9,41\n",
    "print accuracy_list_ada #9,41\n",
    "    "
   ]
  },
  {
   "cell_type": "code",
   "execution_count": 20,
   "metadata": {},
   "outputs": [
    {
     "data": {
      "image/png": "[encoded data removed]",
      "text/plain": [
       "<matplotlib.figure.Figure at 0xb4b35f8>"
      ]
     },
     "metadata": {},
     "output_type": "display_data"
    }
   ],
   "source": [
    "# PLOT\n",
    "import matplotlib\n",
    "import matplotlib.pyplot as plt\n",
    "plt.plot(accuracy_list_ada,\"b-+\", label='test') # and here for test data\n",
    "plt.plot(train_list_ada,\"r-+\", label='train') # and here for train data\n",
    "plt.legend(loc=\"lower right\", fontsize=12)  # for labels\n",
    "plt.show()"
   ]
  },
  {
   "cell_type": "markdown",
   "metadata": {},
   "source": [
    "## part o"
   ]
  },
  {
   "cell_type": "markdown",
   "metadata": {},
   "source": [
    "__What is the best number for the number of models in your model? (If there are several best numbers with same accuracy, report the highest number). Report train and test accuracy of the boosting model which has the best number of models.__"
   ]
  },
  {
   "cell_type": "markdown",
   "metadata": {},
   "source": [
    "The best number for the number of models are exactly 9 and 40. They both have exactly same accuracy in both data set(trainnig,test). About traninig set, it reaches the highest accuracy first time with 9 models and it remains like this. In test set, with 9 models it reaches to peak as well then fluctuating and reaching peak again with 40 models. So, I will pick 40 models as a best number of models and report the train and test accuracy. "
   ]
  },
  {
   "cell_type": "code",
   "execution_count": 11,
   "metadata": {},
   "outputs": [],
   "source": [
    "adaboost_clf_40 = AdaBoostClassifier(tree.DecisionTreeClassifier(random_state=0, max_depth=2),n_estimators=40,random_state=0)\n",
    "adaboost_clf_40.fit(X_train,y_train) #creating model with best number of models\n",
    "predictiontrain_40 = adaboost_clf_40.predict(X_train) # prediction for training data\n",
    "predictiontest_40 = adaboost_clf_40.predict(X_test) # prediction for test data\n",
    "train_acc = accuracy_score(y_train, predictiontrain_40) \n",
    "test_acc =accuracy_score(y_test,predictiontest_40)"
   ]
  },
  {
   "cell_type": "code",
   "execution_count": 10,
   "metadata": {},
   "outputs": [
    {
     "name": "stdout",
     "output_type": "stream",
     "text": [
      "1.0\n",
      "0.6666666666666666\n"
     ]
    }
   ],
   "source": [
    "# DON'T REMOVE THIS CELL\n",
    "print(train_acc)\n",
    "print(test_acc)"
   ]
  },
  {
   "cell_type": "markdown",
   "metadata": {},
   "source": [
    "# STACKING"
   ]
  },
  {
   "cell_type": "markdown",
   "metadata": {},
   "source": [
    "## part p"
   ]
  },
  {
   "cell_type": "code",
   "execution_count": 13,
   "metadata": {
    "collapsed": true
   },
   "outputs": [],
   "source": [
    "from sklearn.model_selection import train_test_split\n",
    "train_set_1, train_set_2, train_y_1, train_y_2 = train_test_split(X_train, y_train, test_size=0.5, random_state=0) \n",
    "#splitting data by half for train and for test"
   ]
  },
  {
   "cell_type": "code",
   "execution_count": 14,
   "metadata": {},
   "outputs": [
    {
     "name": "stderr",
     "output_type": "stream",
     "text": [
      "C:\\Users\\dogancan\\Anaconda2\\lib\\site-packages\\sklearn\\linear_model\\sag.py:334: ConvergenceWarning: The max_iter was reached which means the coef_ did not converge\n",
      "  \"the coef_ did not converge\", ConvergenceWarning)\n",
      "C:\\Users\\dogancan\\Anaconda2\\lib\\site-packages\\sklearn\\svm\\base.py:196: FutureWarning: The default value of gamma will change from 'auto' to 'scale' in version 0.22 to account better for unscaled features. Set gamma explicitly to 'auto' or 'scale' to avoid this warning.\n",
      "  \"avoid this warning.\", FutureWarning)\n"
     ]
    }
   ],
   "source": [
    "from sklearn.linear_model import LogisticRegression\n",
    "from sklearn.svm import SVC\n",
    "log_clf = LogisticRegression(random_state= 0, C = 0.001,penalty = 'l2', solver = 'saga').fit(train_set_1,train_y_1) #creating logistic regression model\n",
    "svc_clf = SVC(random_state= 0, C = 0.1, decision_function_shape = 'ovo', kernel = 'poly', tol = 0.0001, probability = True).fit(train_set_1,train_y_1)\n",
    "#creating svc model here with mentioned parameters"
   ]
  },
  {
   "cell_type": "code",
   "execution_count": 15,
   "metadata": {},
   "outputs": [
    {
     "name": "stdout",
     "output_type": "stream",
     "text": [
      "[126 212  77 ... 231 145 182]\n",
      "[ 72 133 179 ... 189  52 160]\n",
      "76\n",
      "82\n"
     ]
    }
   ],
   "source": [
    "# DON'T REMOVE THIS CELL\n",
    "print(sum(train_set_1))\n",
    "print(sum(train_set_2))\n",
    "print(sum(train_y_1))\n",
    "print(sum(train_y_2))"
   ]
  },
  {
   "cell_type": "markdown",
   "metadata": {},
   "source": [
    "## part q"
   ]
  },
  {
   "cell_type": "code",
   "execution_count": 16,
   "metadata": {},
   "outputs": [],
   "source": [
    "logprob = log_clf.predict_proba(train_set_2) #having probabilistic predictions using logistic regression model\n",
    "svcprob = svc_clf.predict_proba(train_set_2) #having probabilsitic predictions using svc model \n",
    "\n",
    "for i in range(len(train_set_2)):\n",
    "    #print(\"log=%s, Predicted=%s\" % (train_set_2[i], logprob[i])) \n",
    "    #print(\"svc=%s, Predicted=%s\" % (train_set_2[i], svcprob[i]))\n",
    "    logprob[i][1] = svcprob[i][0] # merge values as it's mentioned in assignment like [0,3 0,7]"
   ]
  },
  {
   "cell_type": "code",
   "execution_count": 17,
   "metadata": {},
   "outputs": [],
   "source": [
    "new_train_set_2 = logprob # creating new data\n",
    "#print new_train_set_2"
   ]
  },
  {
   "cell_type": "code",
   "execution_count": 18,
   "metadata": {},
   "outputs": [
    {
     "data": {
      "text/plain": [
       "RandomForestClassifier(bootstrap=True, class_weight=None, criterion='gini',\n",
       "            max_depth=1, max_features='auto', max_leaf_nodes=None,\n",
       "            min_impurity_decrease=0.0, min_impurity_split=None,\n",
       "            min_samples_leaf=1, min_samples_split=2,\n",
       "            min_weight_fraction_leaf=0.0, n_estimators=10, n_jobs=None,\n",
       "            oob_score=False, random_state=0, verbose=0, warm_start=False)"
      ]
     },
     "execution_count": 18,
     "metadata": {},
     "output_type": "execute_result"
    }
   ],
   "source": [
    "from sklearn.ensemble import RandomForestClassifier\n",
    "blender = RandomForestClassifier(random_state=0,max_depth=1,n_estimators=10) # creating random forest model for blender\n",
    "blender.fit(new_train_set_2,train_y_2) #fitting data into blender"
   ]
  },
  {
   "cell_type": "code",
   "execution_count": 19,
   "metadata": {},
   "outputs": [
    {
     "name": "stdout",
     "output_type": "stream",
     "text": [
      "[76.8927692  73.44946142]\n"
     ]
    }
   ],
   "source": [
    "# DON'T REMOVE THIS CELL\n",
    "print(sum(new_train_set_2))"
   ]
  },
  {
   "cell_type": "markdown",
   "metadata": {},
   "source": [
    "## part r"
   ]
  },
  {
   "cell_type": "code",
   "execution_count": 30,
   "metadata": {},
   "outputs": [],
   "source": [
    "logprob_test = log_clf.predict_proba(X_test)   #having probabilistic predictions for test data using logistic regression model\n",
    "svcprob_test = svc_clf.predict_proba(X_test) #having probabilsitic predictions for test data using svc model\n",
    "\n",
    "for i in range(len(X_test)):\n",
    "    #print(\"log0=%s, Predicted=%s\" % (train_set_2[i], logprob[i]))\n",
    "    #print(\"svc=%s, Predicted=%s\" % (train_set_2[i], svcprob[i]))\n",
    "    logprob_test[i][1] = svcprob_test[i][0] #merge values as it's mentioned in assignment like [0,3 0,7]\n",
    "new_test_set = logprob_test"
   ]
  },
  {
   "cell_type": "code",
   "execution_count": 36,
   "metadata": {},
   "outputs": [],
   "source": [
    "from sklearn.metrics import accuracy_score,f1_score\n",
    "finalpredictions = blender.predict(new_test_set) #having probabilistic predictions by using random forest blender"
   ]
  },
  {
   "cell_type": "code",
   "execution_count": 37,
   "metadata": {},
   "outputs": [],
   "source": [
    "test_acc = accuracy_score(finalpredictions, y_test) # test accuracy\n",
    "test_f1 = f1_score(finalpredictions, y_test) # f1 score"
   ]
  },
  {
   "cell_type": "code",
   "execution_count": 38,
   "metadata": {},
   "outputs": [
    {
     "name": "stdout",
     "output_type": "stream",
     "text": [
      "\n",
      "Test Scores:\n",
      "0.8111111111111111\n",
      "0.7848101265822784\n"
     ]
    }
   ],
   "source": [
    "# DON'T REMOVE THIS CELL\n",
    "print(\"\\nTest Scores:\")\n",
    "print(test_acc)\n",
    "print(test_f1)"
   ]
  },
  {
   "cell_type": "markdown",
   "metadata": {},
   "source": [
    "__Did stacking model perform well?__"
   ]
  },
  {
   "cell_type": "markdown",
   "metadata": {},
   "source": [
    "Stacking model performed well as it is seen accuracy increased. we got 0.81 test accuracy which the best accuracy I got as compared to previous ones I have done above with other models."
   ]
  }
 ],
 "metadata": {
  "kernelspec": {
   "display_name": "Python 3",
   "language": "python",
   "name": "python3"
  },
  "language_info": {
   "codemirror_mode": {
    "name": "ipython",
    "version": 3
   },
   "file_extension": ".py",
   "mimetype": "text/x-python",
   "name": "python",
   "nbconvert_exporter": "python",
   "pygments_lexer": "ipython3",
   "version": "3.7.3"
  }
 },
 "nbformat": 4,
 "nbformat_minor": 2
}
