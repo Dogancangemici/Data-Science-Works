{
 "cells": [
  {
   "cell_type": "markdown",
   "metadata": {},
   "source": [
    "## DATA EXPLORATION & PREPARATION (15 points)"
   ]
  },
  {
   "cell_type": "code",
   "execution_count": 1,
   "metadata": {
    "collapsed": false
   },
   "outputs": [],
   "source": [
    "direction_encode = {'right': 0, 'left': 1, 'up': 2, 'straight': 3}\n",
    "eyewear_encode = {'open': 0, \"sunglasses\":1}"
   ]
  },
  {
   "cell_type": "code",
   "execution_count": 6,
   "metadata": {
    "collapsed": false
   },
   "outputs": [],
   "source": [
    "from PIL import Image\n",
    "import os, os.path\n",
    "import numpy as np\n",
    "\n",
    "\n",
    "X_data = []\n",
    "files = \"./TrainingSet\"\n",
    "for myFile in os.listdir(files):\n",
    "    image_array = np.array(Image.open( files+ \"/\" + myFile ).convert('L')).flatten() #here i'm reaching the file and taking images and putting \n",
    "    X_data.append (image_array) #them into array and flattening each of them also i'm appending these files to list\n",
    "X_train = np.array(X_data) # converting my list to array\n",
    "\n",
    "directionlist = []\n",
    "for myFiles in os.listdir(files): \n",
    "    class_label = myFiles.split(\"_\")[1] #here is i'm doing split to take direction part in the file name.\n",
    "    directionlist.append(direction_encode[class_label]) #i'm collecting my values in list \n",
    "y_train_direction = np.array(directionlist) # converting my list to array\n",
    "\n",
    "\n",
    "\n",
    "X_datatest = []\n",
    "testfiles = \"./TestSet\"\n",
    "for myFile_test in os.listdir(testfiles):\n",
    "    image_array2 = np.array(Image.open( testfiles + \"/\" + myFile_test ).convert('L')).flatten() \n",
    "    X_datatest.append (image_array2) #i did same thing here as i did above nothing different\n",
    "X_test = np.array(X_datatest)\n",
    "\n",
    "\n",
    "directionlist_test = []\n",
    "for myFiles3 in os.listdir(testfiles):\n",
    "    test_label = myFiles3.split(\"_\")[1]  #here is i'm doing split to take direction part in the filename.\n",
    "    directionlist_test.append(direction_encode[test_label])\n",
    "y_test_direction = np.array(directionlist_test)\n",
    "\n",
    "eyelist = []\n",
    "for myFiles2 in os.listdir(files): \n",
    "    class_label2 = myFiles2.split(\"_\")[3]   #reaching files and splitting first with \"_\" then with \".\" to get rid of JPG part \n",
    "    class_labelname = class_label2.split(\".\")[0] # so i can get open or sunglasses part in filename.\n",
    "    eyelist.append(eyewear_encode[class_labelname])\n",
    "y_train_eyewear = np.array(eyelist)\n",
    "\n",
    "\n",
    "eyelist_test = []\n",
    "for myFiles4 in os.listdir(testfiles):\n",
    "    test_label2 = myFiles4.split(\"_\")[3]\n",
    "    test_labelname = test_label2.split(\".\")[0]  #same as i did above. exactly same things! but for test files.\n",
    "    eyelist_test.append(eyewear_encode[test_labelname])\n",
    "y_test_eyewear = np.array(eyelist_test)"
   ]
  },
  {
   "cell_type": "code",
   "execution_count": 7,
   "metadata": {
    "collapsed": false
   },
   "outputs": [
    {
     "name": "stdout",
     "output_type": "stream",
     "text": [
      "24\n",
      "12\n",
      "104\n",
      "12\n",
      "3\n",
      "3\n"
     ]
    }
   ],
   "source": [
    "# DON'T ERASE THIS PART\n",
    "print(sum(X_train[3][3:6]))\n",
    "print(sum(y_train_direction[-6:]))\n",
    "print(sum(X_test[3][3:6]))\n",
    "print(sum(y_test_direction[-6:]))\n",
    "print(sum(y_train_eyewear[-6:]))\n",
    "print(sum(y_test_eyewear[-6:]))"
   ]
  },
  {
   "cell_type": "markdown",
   "metadata": {},
   "source": [
    "## CLASSIFICATION MODEL TO PREDICT DIRECTION FACED (40 points)"
   ]
  },
  {
   "cell_type": "markdown",
   "metadata": {},
   "source": [
    "### part a"
   ]
  },
  {
   "cell_type": "code",
   "execution_count": 10,
   "metadata": {
    "collapsed": false
   },
   "outputs": [
    {
     "name": "stderr",
     "output_type": "stream",
     "text": [
      "C:\\Users\\dogancan\\Anaconda2\\lib\\site-packages\\sklearn\\svm\\base.py:196: FutureWarning: The default value of gamma will change from 'auto' to 'scale' in version 0.22 to account better for unscaled features. Set gamma explicitly to 'auto' or 'scale' to avoid this warning.\n",
      "  \"avoid this warning.\", FutureWarning)\n",
      "C:\\Users\\dogancan\\Anaconda2\\lib\\site-packages\\sklearn\\model_selection\\_search.py:841: DeprecationWarning: The default of the `iid` parameter will change from True to False in version 0.22 and will be removed in 0.24. This will change numeric results when test-set sizes are unequal.\n",
      "  DeprecationWarning)\n"
     ]
    },
    {
     "data": {
      "text/plain": [
       "GridSearchCV(cv=5, error_score='raise-deprecating',\n",
       "       estimator=SVC(C=1.0, cache_size=200, class_weight=None, coef0=0.0,\n",
       "  decision_function_shape='ovr', degree=3, gamma='auto_deprecated',\n",
       "  kernel='rbf', max_iter=-1, probability=False, random_state=0,\n",
       "  shrinking=True, tol=0.001, verbose=False),\n",
       "       fit_params=None, iid='warn', n_jobs=None,\n",
       "       param_grid={'kernel': ('linear', 'rbf', 'poly'), 'C': [0.1, 0.5, 1.0], 'decision_function_shape': ('ovo', 'ovr'), 'tol': [0.0001, 0.001]},\n",
       "       pre_dispatch='2*n_jobs', refit=True, return_train_score='warn',\n",
       "       scoring='accuracy', verbose=0)"
      ]
     },
     "execution_count": 10,
     "metadata": {},
     "output_type": "execute_result"
    }
   ],
   "source": [
    "from sklearn import svm\n",
    "from sklearn.model_selection import GridSearchCV\n",
    "parameters = {'kernel':('linear', 'rbf','poly'), 'C':[0.1,0.5,1.0], 'tol':[0.0001,0.001], 'decision_function_shape':('ovo','ovr')}\n",
    "svc= svm.SVC(random_state=0)  #first giving parameters and defining svc \n",
    "clf = GridSearchCV(svc, parameters, cv=5,scoring= \"accuracy\") # then try to find best parameters by gridsearch\n",
    "clf.fit(X_train, y_train_direction) #fitting data"
   ]
  },
  {
   "cell_type": "code",
   "execution_count": 11,
   "metadata": {
    "collapsed": false
   },
   "outputs": [],
   "source": [
    "from sklearn.metrics import accuracy_score\n",
    "predicted_labels = clf.predict(X_train)  #having prediction for train data\n",
    "best_parameters = clf.best_params_  #to get best parameters\n",
    "training_accuracy = accuracy_score(y_train_direction, predicted_labels)  #to observe training accuracy\n",
    "validation_accuracy = clf.best_score_ # best_score_ gives validation score\n"
   ]
  },
  {
   "cell_type": "code",
   "execution_count": 12,
   "metadata": {
    "collapsed": false
   },
   "outputs": [
    {
     "name": "stdout",
     "output_type": "stream",
     "text": [
      "{'kernel': 'linear', 'C': 0.1, 'decision_function_shape': 'ovo', 'tol': 0.0001}\n",
      "1.0\n",
      "0.8063492063492064\n"
     ]
    }
   ],
   "source": [
    "print(best_parameters)\n",
    "print(training_accuracy)\n",
    "print(validation_accuracy)"
   ]
  },
  {
   "cell_type": "markdown",
   "metadata": {},
   "source": [
    "### part b"
   ]
  },
  {
   "cell_type": "code",
   "execution_count": 13,
   "metadata": {
    "collapsed": false
   },
   "outputs": [],
   "source": [
    "from sklearn.metrics import accuracy_score, precision_score, recall_score\n",
    "predictiontest = clf.predict(X_test)  #having prediction for test data to get accuracy\n",
    "test_accuracy = accuracy_score(y_test_direction,predictiontest)  # having test accuracy\n",
    "test_precision = precision_score(y_test_direction,predictiontest, average=\"weighted\") # having test_precision\n",
    "test_recall = recall_score(y_test_direction,predictiontest, average=\"weighted\") # having test recall score"
   ]
  },
  {
   "cell_type": "code",
   "execution_count": 14,
   "metadata": {
    "collapsed": false
   },
   "outputs": [
    {
     "name": "stdout",
     "output_type": "stream",
     "text": [
      "0.9888888888888889\n",
      "0.9893939393939394\n",
      "0.9888888888888889\n"
     ]
    }
   ],
   "source": [
    "print(test_accuracy)\n",
    "print(test_precision)\n",
    "print(test_recall)"
   ]
  },
  {
   "cell_type": "markdown",
   "metadata": {},
   "source": [
    "Did your model perform well on both training and test data? If no, does it underfit or overfit? Write your answer the corresponding cell in the template with a precise explanation. Write your answer below.\n"
   ]
  },
  {
   "cell_type": "markdown",
   "metadata": {},
   "source": [
    "it performed well on both training and test data. but there is little difference that it performed in training data better than test. "
   ]
  },
  {
   "cell_type": "markdown",
   "metadata": {},
   "source": [
    "### part c"
   ]
  },
  {
   "cell_type": "code",
   "execution_count": 15,
   "metadata": {
    "collapsed": false
   },
   "outputs": [],
   "source": [
    "from sklearn import svm\n",
    "svc1= svm.SVC(kernel= 'linear', C=0.1, decision_function_shape='ovo', tol= 0.0001,random_state=0)\n",
    "#here i'm defining my svc with best parameters that i found in part a\n"
   ]
  },
  {
   "cell_type": "code",
   "execution_count": 16,
   "metadata": {
    "collapsed": false
   },
   "outputs": [],
   "source": [
    "traindata = []\n",
    "testdata = []\n",
    "ilist = []\n",
    "for i in range(15,316,15): \n",
    "    svc1.fit(X_train[:i], y_train_direction[:i])   #fitting data to my model with i steps \n",
    "    X_train_predict = svc1.predict(X_train)  # having training prediction for accuracy score\n",
    "    X_test_predict = svc1.predict(X_test) # having test prediction for accuracy score\n",
    "    training_misclassified =1 -  accuracy_score(y_train_direction,X_train_predict) #finding misclassified by using accuracy and\n",
    "    test_misclassified =1 -  accuracy_score(y_test_direction,X_test_predict) # subtracting from 1\n",
    "    traindata.append(training_misclassified) # keeping this data in list to show in learning curve\n",
    "    testdata.append(test_misclassified)\n",
    "    ilist.append(i) # i have to keep \"i\" as well to draw my learning curve healthier"
   ]
  },
  {
   "cell_type": "code",
   "execution_count": 17,
   "metadata": {
    "collapsed": false
   },
   "outputs": [
    {
     "data": {
      "image/png": "[encoded data removed]",
      "text/plain": [
       "<matplotlib.figure.Figure at 0xa004048>"
      ]
     },
     "metadata": {},
     "output_type": "display_data"
    }
   ],
   "source": [
    "import matplotlib\n",
    "import matplotlib.pyplot as plt\n",
    "plt.plot(ilist, traindata,linewidth=2, label='train')  # here drawing learning curve of train data by using misclassified samples\n",
    "plt.plot(ilist, testdata,linewidth=2, label='test') # and here for test data\n",
    "plt.legend(loc=\"upper right\", fontsize=12)  # for text\n",
    "plt.show()"
   ]
  },
  {
   "cell_type": "markdown",
   "metadata": {},
   "source": [
    "## CLASSIFICATION MODEL TO PREDICT EYEWEAR (25 points)"
   ]
  },
  {
   "cell_type": "markdown",
   "metadata": {},
   "source": [
    "### part d"
   ]
  },
  {
   "cell_type": "code",
   "execution_count": 18,
   "metadata": {
    "collapsed": false
   },
   "outputs": [
    {
     "name": "stderr",
     "output_type": "stream",
     "text": [
      "C:\\Users\\dogancan\\Anaconda2\\lib\\site-packages\\sklearn\\model_selection\\_search.py:841: DeprecationWarning: The default of the `iid` parameter will change from True to False in version 0.22 and will be removed in 0.24. This will change numeric results when test-set sizes are unequal.\n",
      "  DeprecationWarning)\n"
     ]
    },
    {
     "data": {
      "text/plain": [
       "GridSearchCV(cv=5, error_score='raise-deprecating',\n",
       "       estimator=SVC(C=1.0, cache_size=200, class_weight=None, coef0=0.0,\n",
       "  decision_function_shape='ovr', degree=3, gamma='auto_deprecated',\n",
       "  kernel='rbf', max_iter=-1, probability=False, random_state=0,\n",
       "  shrinking=True, tol=0.001, verbose=False),\n",
       "       fit_params=None, iid='warn', n_jobs=None,\n",
       "       param_grid={'kernel': ('linear', 'rbf', 'poly'), 'C': [0.1, 0.5, 1.0], 'decision_function_shape': ('ovo', 'ovr'), 'tol': [0.0001, 0.001]},\n",
       "       pre_dispatch='2*n_jobs', refit=True, return_train_score='warn',\n",
       "       scoring='accuracy', verbose=0)"
      ]
     },
     "execution_count": 18,
     "metadata": {},
     "output_type": "execute_result"
    }
   ],
   "source": [
    "from sklearn import svm\n",
    "from sklearn.model_selection import GridSearchCV\n",
    "parameters = {'kernel':('linear', 'rbf','poly'), 'C':[0.1,0.5,1.0], 'tol':[0.0001,0.001], 'decision_function_shape':('ovo','ovr')}\n",
    "svc_eye= svm.SVC(random_state=0)\n",
    "clf_eye = GridSearchCV(svc_eye, parameters, cv=5,scoring= \"accuracy\")\n",
    "clf_eye.fit(X_train, y_train_eyewear)  # i did same things that i have done for direction data like defining svc and looking for\n",
    "#best parameters in given parameters by gridsearch method"
   ]
  },
  {
   "cell_type": "code",
   "execution_count": 19,
   "metadata": {
    "collapsed": false
   },
   "outputs": [
    {
     "name": "stderr",
     "output_type": "stream",
     "text": [
      "C:\\Users\\dogancan\\Anaconda2\\lib\\site-packages\\sklearn\\linear_model\\sag.py:334: ConvergenceWarning: The max_iter was reached which means the coef_ did not converge\n",
      "  \"the coef_ did not converge\", ConvergenceWarning)\n",
      "C:\\Users\\dogancan\\Anaconda2\\lib\\site-packages\\sklearn\\model_selection\\_search.py:841: DeprecationWarning: The default of the `iid` parameter will change from True to False in version 0.22 and will be removed in 0.24. This will change numeric results when test-set sizes are unequal.\n",
      "  DeprecationWarning)\n"
     ]
    },
    {
     "data": {
      "text/plain": [
       "GridSearchCV(cv=5, error_score='raise-deprecating',\n",
       "       estimator=LogisticRegression(C=1.0, class_weight=None, dual=False, fit_intercept=True,\n",
       "          intercept_scaling=1, max_iter=100, multi_class='warn',\n",
       "          n_jobs=None, penalty='l2', random_state=0, solver='saga',\n",
       "          tol=0.0001, verbose=0, warm_start=False),\n",
       "       fit_params=None, iid='warn', n_jobs=None,\n",
       "       param_grid={'penalty': ('l1', 'l2'), 'C': [0.001, 0.01, 0.1]},\n",
       "       pre_dispatch='2*n_jobs', refit=True, return_train_score='warn',\n",
       "       scoring='accuracy', verbose=0)"
      ]
     },
     "execution_count": 19,
     "metadata": {},
     "output_type": "execute_result"
    }
   ],
   "source": [
    "from sklearn.linear_model import LogisticRegression\n",
    "\n",
    "parameters_lr = {'penalty':('l1', 'l2'), 'C':[0.001, 0.01, 0.1]} # they are parameters for logistic regression\n",
    "lr = LogisticRegression(random_state=0, solver = \"saga\") # here i'm defining logistic regression\n",
    "clf_lr_eye = GridSearchCV(lr, parameters_lr, cv=5,scoring= \"accuracy\")  # searching best paramters for logistic regression\n",
    "clf_lr_eye.fit(X_train, y_train_eyewear)\n"
   ]
  },
  {
   "cell_type": "code",
   "execution_count": 20,
   "metadata": {
    "collapsed": true
   },
   "outputs": [],
   "source": [
    "predicted_labels_eye = clf_eye.predict(X_train) # prediction with svc\n",
    "predicted_labels_lr_eye = clf_lr_eye.predict(X_train) # prediction with logistic reg"
   ]
  },
  {
   "cell_type": "code",
   "execution_count": 21,
   "metadata": {
    "collapsed": true
   },
   "outputs": [],
   "source": [
    "best_parameters_SVC = clf_eye.best_params_  #best parameters of svc\n",
    "best_parameters_LR = clf_lr_eye.best_params_ # best paramters of lr"
   ]
  },
  {
   "cell_type": "code",
   "execution_count": 22,
   "metadata": {
    "collapsed": false
   },
   "outputs": [],
   "source": [
    "from sklearn.metrics import accuracy_score, precision_score, recall_score\n",
    "training_accuracy_SVC =accuracy_score(y_train_eyewear, predicted_labels_eye) #having training accuracy for svc model\n",
    "validation_accuracy_SVC = clf_eye.best_score_ # validation score for svc model"
   ]
  },
  {
   "cell_type": "code",
   "execution_count": 23,
   "metadata": {
    "collapsed": true
   },
   "outputs": [],
   "source": [
    "training_accuracy_LR = accuracy_score(y_train_eyewear, predicted_labels_lr_eye) # training accuracy for lr model\n",
    "validation_accuracy_LR = clf_lr_eye.best_score_ # validation score for lr model"
   ]
  },
  {
   "cell_type": "code",
   "execution_count": 24,
   "metadata": {
    "collapsed": false
   },
   "outputs": [
    {
     "name": "stdout",
     "output_type": "stream",
     "text": [
      "SVC RESULTS\n",
      "{'kernel': 'poly', 'C': 0.1, 'decision_function_shape': 'ovo', 'tol': 0.0001}\n",
      "1.0\n",
      "0.6222222222222222\n",
      "\n",
      "LR RESULTS\n",
      "{'penalty': 'l2', 'C': 0.001}\n",
      "1.0\n",
      "0.5968253968253968\n"
     ]
    }
   ],
   "source": [
    "print(\"SVC RESULTS\")\n",
    "print(best_parameters_SVC)\n",
    "print(training_accuracy_SVC)\n",
    "print(validation_accuracy_SVC)\n",
    "print(\"\\nLR RESULTS\")\n",
    "print(best_parameters_LR)\n",
    "print(training_accuracy_LR)\n",
    "print(validation_accuracy_LR)"
   ]
  },
  {
   "cell_type": "markdown",
   "metadata": {},
   "source": [
    "### part e"
   ]
  },
  {
   "cell_type": "code",
   "execution_count": 25,
   "metadata": {
    "collapsed": true
   },
   "outputs": [],
   "source": [
    "SVC_preds = clf_eye.predict(X_test) # using same model SVC that i've created above and predicting with test data\n",
    "LR_preds = clf_lr_eye.predict(X_test) # using same model LR that i've created above and predicting with test data \n",
    "#so i will decide which model will work better"
   ]
  },
  {
   "cell_type": "code",
   "execution_count": 26,
   "metadata": {
    "collapsed": false
   },
   "outputs": [],
   "source": [
    "accuracy_SVC = accuracy_score(y_test_eyewear,SVC_preds) # calculating accuracy for test data with SVC model\n",
    "precision_SVC = precision_score(y_test_eyewear,SVC_preds, average=\"weighted\") #its precision\n",
    "recall_SVC =recall_score(y_test_eyewear,SVC_preds, average=\"weighted\") #its recall score"
   ]
  },
  {
   "cell_type": "code",
   "execution_count": 27,
   "metadata": {
    "collapsed": false
   },
   "outputs": [],
   "source": [
    "accuracy_LR = accuracy_score(y_test_eyewear,LR_preds) #calculating accuracy for test data with LR model\n",
    "precision_LR = precision_score(y_test_eyewear,LR_preds, average=\"weighted\") # its precision\n",
    "recall_LR =recall_score(y_test_eyewear,LR_preds, average=\"weighted\") #its recall score"
   ]
  },
  {
   "cell_type": "code",
   "execution_count": 28,
   "metadata": {
    "collapsed": false
   },
   "outputs": [
    {
     "name": "stdout",
     "output_type": "stream",
     "text": [
      "SVC RESULTS\n",
      "0.7777777777777778\n",
      "0.7791184850008379\n",
      "0.7777777777777778\n",
      "\n",
      "LR RESULTS\n",
      "0.7333333333333333\n",
      "0.7333333333333333\n",
      "0.7333333333333333\n"
     ]
    }
   ],
   "source": [
    "print(\"SVC RESULTS\")\n",
    "print(accuracy_SVC)\n",
    "print(precision_SVC)\n",
    "print(recall_SVC)\n",
    "print(\"\\nLR RESULTS\")\n",
    "print(accuracy_LR)\n",
    "print(precision_LR)\n",
    "print(recall_LR)"
   ]
  },
  {
   "cell_type": "markdown",
   "metadata": {},
   "source": [
    "Which model’s performance is the best? Write your answer below."
   ]
  },
  {
   "cell_type": "markdown",
   "metadata": {},
   "source": [
    "SVC model performances is better than LR as it is seen above. In SVC results, accuracy, precision and recall are higher than LR results."
   ]
  },
  {
   "cell_type": "markdown",
   "metadata": {},
   "source": [
    "### part f"
   ]
  },
  {
   "cell_type": "markdown",
   "metadata": {},
   "source": [
    "Do Logistic Regression and SVC models perform well on both training and test data? If no, do they underfit or overfit? Write your answer below. "
   ]
  },
  {
   "cell_type": "markdown",
   "metadata": {},
   "source": [
    "They do not perform very well. Because they are overfitting. While training accuracy is 1.0 validation accuracies are low. "
   ]
  },
  {
   "cell_type": "markdown",
   "metadata": {},
   "source": [
    "## MODEL EXPLORATION - EYEWEAR PREDICTION (20 points)"
   ]
  },
  {
   "cell_type": "markdown",
   "metadata": {},
   "source": [
    "In this part, you will try to increase accuracy on X_test (Remember that you should never use test data for training and model tuning. Do the model selection/tuning with cross validation on training data). You may use different models or parameters (Notice that, so far, you tried only a small list of values for parameters such C in the grid search). You may also try to extract new features from images. Your aim is to get a higher test accuracy than the one you got in part (f)."
   ]
  },
  {
   "cell_type": "code",
   "execution_count": 55,
   "metadata": {
    "collapsed": false
   },
   "outputs": [
    {
     "name": "stderr",
     "output_type": "stream",
     "text": [
      "C:\\Users\\dogancan\\Anaconda2\\lib\\site-packages\\sklearn\\svm\\base.py:244: ConvergenceWarning: Solver terminated early (max_iter=150).  Consider pre-processing your data with StandardScaler or MinMaxScaler.\n",
      "  % self.max_iter, ConvergenceWarning)\n",
      "C:\\Users\\dogancan\\Anaconda2\\lib\\site-packages\\sklearn\\model_selection\\_search.py:841: DeprecationWarning: The default of the `iid` parameter will change from True to False in version 0.22 and will be removed in 0.24. This will change numeric results when test-set sizes are unequal.\n",
      "  DeprecationWarning)\n"
     ]
    },
    {
     "name": "stdout",
     "output_type": "stream",
     "text": [
      "{'C': 0.1, 'max_iter': 50, 'tol': 0.0001, 'gamma': 1}\n"
     ]
    }
   ],
   "source": [
    "from sklearn import svm\n",
    "from sklearn.model_selection import GridSearchCV\n",
    "parameters = {'gamma':[1,0.0001,0.001,0.1], 'max_iter' : [10,50,100,150], 'C':[0.1,0.2,0.08,0.04,0.01], 'tol':[0.0001,0.00015,0.00001]}\n",
    "svc_final= svm.SVC(random_state=0, kernel ='poly',decision_function_shape='ovo')\n",
    "clf_final = GridSearchCV(svc_final, parameters, cv=5,scoring= \"accuracy\")\n",
    "clf_final.fit(X_train, y_train_eyewear)\n",
    "print(clf_final.best_params_)  #here i was trying to do same things that i've done above like using svc and looking best parameters\n",
    "# but i found more parameters to give gridsearcher and find better accuracy. as it is seen i have more varieties of paramaters\n",
    "# i printed best parameters to observe the difference between this and previous one\n"
   ]
  },
  {
   "cell_type": "code",
   "execution_count": 8,
   "metadata": {
    "collapsed": false
   },
   "outputs": [],
   "source": [
    "from sklearn import svm\n",
    "from sklearn.model_selection import GridSearchCV\n",
    "from sklearn.metrics import accuracy_score\n",
    "#final_pred_train = clf_final.predict(X_train)   # i tried test data with best paramaters but it did not give me better accuracy\n",
    "#final_pred_test = clf_final.predict(X_test)   # as it is seen clf_final is my model here and i tried with this but accuracy \n",
    "#train_accuracy = accuracy_score(y_train_eyewear, final_pred_train) # lower than i found and i was trying to give different \n",
    "#test_accuracy =  accuracy_score(y_test_eyewear, final_pred_test) #parameters but it was taking a lot time. so i decided to try\n",
    " # manually as it is seen below. so i did not want to run this code because of confusion of variables. i will leave all of it \n",
    "# as a comment. if you like to run you can do it as well. thanks!"
   ]
  },
  {
   "cell_type": "code",
   "execution_count": 13,
   "metadata": {
    "collapsed": false
   },
   "outputs": [
    {
     "name": "stderr",
     "output_type": "stream",
     "text": [
      "C:\\Users\\dogancan\\Anaconda2\\lib\\site-packages\\sklearn\\svm\\base.py:244: ConvergenceWarning: Solver terminated early (max_iter=100).  Consider pre-processing your data with StandardScaler or MinMaxScaler.\n",
      "  % self.max_iter, ConvergenceWarning)\n"
     ]
    }
   ],
   "source": [
    "model = svm.SVC(random_state = 0, kernel ='poly',decision_function_shape='ovo', max_iter = 100, C = 1, tol = 0.0001, gamma = 0.0001)\n",
    "#in the line above, i was trying different parameters because as i mentioned above grid search working so slow,\n",
    "#and i found max_iter = 100 have better accuracy with test data \n",
    "model.fit(X_train, y_train_eyewear) # my aim was trying to increase test data so i do not work with model that i found the best\n",
    "final_pred_train = model.predict(X_train) # for training data. so it is different and i have better accuracy even if it's so little\n",
    "final_pred_test = model.predict(X_test) # here i'm predicting.\n",
    "train_accuracy = accuracy_score(y_train_eyewear, final_pred_train)\n",
    "test_accuracy =  accuracy_score(y_test_eyewear, final_pred_test)"
   ]
  },
  {
   "cell_type": "code",
   "execution_count": 14,
   "metadata": {
    "collapsed": false
   },
   "outputs": [
    {
     "name": "stdout",
     "output_type": "stream",
     "text": [
      "1.0\n",
      "0.7888888888888889\n"
     ]
    }
   ],
   "source": [
    "print(train_accuracy)\n",
    "print(test_accuracy)"
   ]
  },
  {
   "cell_type": "code",
   "execution_count": 31,
   "metadata": {
    "collapsed": true
   },
   "outputs": [],
   "source": [
    "# training accuracy still 1.0 and test accuracy increased from 0.77777 to 0.788889 :)) "
   ]
  }
 ],
 "metadata": {
  "kernelspec": {
   "display_name": "Python 2",
   "language": "python",
   "name": "python2"
  },
  "language_info": {
   "codemirror_mode": {
    "name": "ipython",
    "version": 2
   },
   "file_extension": ".py",
   "mimetype": "text/x-python",
   "name": "python",
   "nbconvert_exporter": "python",
   "pygments_lexer": "ipython2",
   "version": "2.7.13"
  }
 },
 "nbformat": 4,
 "nbformat_minor": 2
}
