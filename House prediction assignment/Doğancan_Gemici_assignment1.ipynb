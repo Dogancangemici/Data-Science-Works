{
 "cells": [
  {
   "cell_type": "code",
   "execution_count": 32,
   "metadata": {
    "collapsed": true
   },
   "outputs": [],
   "source": [
    "# python version: python3"
   ]
  },
  {
   "cell_type": "code",
   "execution_count": 33,
   "metadata": {
    "collapsed": false
   },
   "outputs": [],
   "source": [
    "import matplotlib\n",
    "import matplotlib.pyplot as plt\n",
    "import numpy as np\n",
    "import pandas as pd\n",
    "import sklearn"
   ]
  },
  {
   "cell_type": "markdown",
   "metadata": {},
   "source": [
    "## DATA EXPLORATION & PREPARATION"
   ]
  },
  {
   "cell_type": "markdown",
   "metadata": {},
   "source": [
    "### part a"
   ]
  },
  {
   "cell_type": "code",
   "execution_count": 34,
   "metadata": {
    "collapsed": false
   },
   "outputs": [],
   "source": [
    "train_x_a = pd.read_csv(\"train.csv\").drop(\"SalePrice\", axis=1) #loading data without SalePrice column\n",
    "train_y = pd.read_csv(\"train.csv\")[\"SalePrice\"] #loading data only SalePrice column"
   ]
  },
  {
   "cell_type": "code",
   "execution_count": 35,
   "metadata": {
    "collapsed": false
   },
   "outputs": [
    {
     "data": {
      "text/html": [
       "<div>\n",
       "<table border=\"1\" class=\"dataframe\">\n",
       "  <thead>\n",
       "    <tr style=\"text-align: right;\">\n",
       "      <th></th>\n",
       "      <th>MSSubClass</th>\n",
       "      <th>LotFrontage</th>\n",
       "      <th>LotArea</th>\n",
       "      <th>Street</th>\n",
       "      <th>OverallQual</th>\n",
       "      <th>OverallCond</th>\n",
       "      <th>MasVnrArea</th>\n",
       "      <th>BsmtFinSF1</th>\n",
       "      <th>BsmtUnfSF</th>\n",
       "      <th>TotalBsmtSF</th>\n",
       "      <th>...</th>\n",
       "      <th>BsmtHalfBath</th>\n",
       "      <th>FullBath</th>\n",
       "      <th>HalfBath</th>\n",
       "      <th>BedroomAbvGr</th>\n",
       "      <th>KitchenAbvGr</th>\n",
       "      <th>TotRmsAbvGrd</th>\n",
       "      <th>Fireplaces</th>\n",
       "      <th>GarageCars</th>\n",
       "      <th>GarageArea</th>\n",
       "      <th>MoSold</th>\n",
       "    </tr>\n",
       "  </thead>\n",
       "  <tbody>\n",
       "    <tr>\n",
       "      <th>0</th>\n",
       "      <td>60</td>\n",
       "      <td>65.0</td>\n",
       "      <td>8450</td>\n",
       "      <td>Pave</td>\n",
       "      <td>7</td>\n",
       "      <td>5</td>\n",
       "      <td>196.0</td>\n",
       "      <td>706</td>\n",
       "      <td>150</td>\n",
       "      <td>856</td>\n",
       "      <td>...</td>\n",
       "      <td>0</td>\n",
       "      <td>2</td>\n",
       "      <td>1</td>\n",
       "      <td>3</td>\n",
       "      <td>1</td>\n",
       "      <td>8</td>\n",
       "      <td>0</td>\n",
       "      <td>2</td>\n",
       "      <td>548</td>\n",
       "      <td>2</td>\n",
       "    </tr>\n",
       "    <tr>\n",
       "      <th>1</th>\n",
       "      <td>20</td>\n",
       "      <td>80.0</td>\n",
       "      <td>9600</td>\n",
       "      <td>Pave</td>\n",
       "      <td>6</td>\n",
       "      <td>8</td>\n",
       "      <td>0.0</td>\n",
       "      <td>978</td>\n",
       "      <td>284</td>\n",
       "      <td>1262</td>\n",
       "      <td>...</td>\n",
       "      <td>1</td>\n",
       "      <td>2</td>\n",
       "      <td>0</td>\n",
       "      <td>3</td>\n",
       "      <td>1</td>\n",
       "      <td>6</td>\n",
       "      <td>1</td>\n",
       "      <td>2</td>\n",
       "      <td>460</td>\n",
       "      <td>5</td>\n",
       "    </tr>\n",
       "  </tbody>\n",
       "</table>\n",
       "<p>2 rows × 25 columns</p>\n",
       "</div>"
      ],
      "text/plain": [
       "   MSSubClass  LotFrontage  LotArea Street  OverallQual  OverallCond  \\\n",
       "0          60         65.0     8450   Pave            7            5   \n",
       "1          20         80.0     9600   Pave            6            8   \n",
       "\n",
       "   MasVnrArea  BsmtFinSF1  BsmtUnfSF  TotalBsmtSF   ...    BsmtHalfBath  \\\n",
       "0       196.0         706        150          856   ...               0   \n",
       "1         0.0         978        284         1262   ...               1   \n",
       "\n",
       "   FullBath  HalfBath  BedroomAbvGr  KitchenAbvGr  TotRmsAbvGrd  Fireplaces  \\\n",
       "0         2         1             3             1             8           0   \n",
       "1         2         0             3             1             6           1   \n",
       "\n",
       "   GarageCars  GarageArea  MoSold  \n",
       "0           2         548       2  \n",
       "1           2         460       5  \n",
       "\n",
       "[2 rows x 25 columns]"
      ]
     },
     "execution_count": 35,
     "metadata": {},
     "output_type": "execute_result"
    }
   ],
   "source": [
    "train_x_a.head(2)"
   ]
  },
  {
   "cell_type": "code",
   "execution_count": 36,
   "metadata": {
    "collapsed": false
   },
   "outputs": [
    {
     "data": {
      "text/plain": [
       "0    208500\n",
       "1    181500\n",
       "Name: SalePrice, dtype: int64"
      ]
     },
     "execution_count": 36,
     "metadata": {},
     "output_type": "execute_result"
    }
   ],
   "source": [
    "train_y.head(2)"
   ]
  },
  {
   "cell_type": "markdown",
   "metadata": {},
   "source": [
    "### part b"
   ]
  },
  {
   "cell_type": "code",
   "execution_count": 37,
   "metadata": {
    "collapsed": false
   },
   "outputs": [],
   "source": [
    "mydata =pd.read_csv(\"train.csv\")\n",
    "nan_columns = mydata.columns[mydata.isnull().any()].tolist() #taking missing values to list\n",
    "train_x_b = mydata.fillna(mydata.mean()) #filling this list with mean of mydata"
   ]
  },
  {
   "cell_type": "code",
   "execution_count": 38,
   "metadata": {
    "collapsed": false
   },
   "outputs": [
    {
     "name": "stdout",
     "output_type": "stream",
     "text": [
      "['LotFrontage', 'MasVnrArea']\n"
     ]
    }
   ],
   "source": [
    "print(nan_columns)"
   ]
  },
  {
   "cell_type": "code",
   "execution_count": 39,
   "metadata": {
    "collapsed": false
   },
   "outputs": [
    {
     "data": {
      "text/html": [
       "<div>\n",
       "<table border=\"1\" class=\"dataframe\">\n",
       "  <thead>\n",
       "    <tr style=\"text-align: right;\">\n",
       "      <th></th>\n",
       "      <th>MSSubClass</th>\n",
       "      <th>LotFrontage</th>\n",
       "      <th>LotArea</th>\n",
       "      <th>Street</th>\n",
       "      <th>OverallQual</th>\n",
       "      <th>OverallCond</th>\n",
       "      <th>MasVnrArea</th>\n",
       "      <th>BsmtFinSF1</th>\n",
       "      <th>BsmtUnfSF</th>\n",
       "      <th>TotalBsmtSF</th>\n",
       "      <th>...</th>\n",
       "      <th>FullBath</th>\n",
       "      <th>HalfBath</th>\n",
       "      <th>BedroomAbvGr</th>\n",
       "      <th>KitchenAbvGr</th>\n",
       "      <th>TotRmsAbvGrd</th>\n",
       "      <th>Fireplaces</th>\n",
       "      <th>GarageCars</th>\n",
       "      <th>GarageArea</th>\n",
       "      <th>MoSold</th>\n",
       "      <th>SalePrice</th>\n",
       "    </tr>\n",
       "  </thead>\n",
       "  <tbody>\n",
       "    <tr>\n",
       "      <th>0</th>\n",
       "      <td>60</td>\n",
       "      <td>65.0</td>\n",
       "      <td>8450</td>\n",
       "      <td>Pave</td>\n",
       "      <td>7</td>\n",
       "      <td>5</td>\n",
       "      <td>196.0</td>\n",
       "      <td>706</td>\n",
       "      <td>150</td>\n",
       "      <td>856</td>\n",
       "      <td>...</td>\n",
       "      <td>2</td>\n",
       "      <td>1</td>\n",
       "      <td>3</td>\n",
       "      <td>1</td>\n",
       "      <td>8</td>\n",
       "      <td>0</td>\n",
       "      <td>2</td>\n",
       "      <td>548</td>\n",
       "      <td>2</td>\n",
       "      <td>208500</td>\n",
       "    </tr>\n",
       "    <tr>\n",
       "      <th>1</th>\n",
       "      <td>20</td>\n",
       "      <td>80.0</td>\n",
       "      <td>9600</td>\n",
       "      <td>Pave</td>\n",
       "      <td>6</td>\n",
       "      <td>8</td>\n",
       "      <td>0.0</td>\n",
       "      <td>978</td>\n",
       "      <td>284</td>\n",
       "      <td>1262</td>\n",
       "      <td>...</td>\n",
       "      <td>2</td>\n",
       "      <td>0</td>\n",
       "      <td>3</td>\n",
       "      <td>1</td>\n",
       "      <td>6</td>\n",
       "      <td>1</td>\n",
       "      <td>2</td>\n",
       "      <td>460</td>\n",
       "      <td>5</td>\n",
       "      <td>181500</td>\n",
       "    </tr>\n",
       "  </tbody>\n",
       "</table>\n",
       "<p>2 rows × 26 columns</p>\n",
       "</div>"
      ],
      "text/plain": [
       "   MSSubClass  LotFrontage  LotArea Street  OverallQual  OverallCond  \\\n",
       "0          60         65.0     8450   Pave            7            5   \n",
       "1          20         80.0     9600   Pave            6            8   \n",
       "\n",
       "   MasVnrArea  BsmtFinSF1  BsmtUnfSF  TotalBsmtSF    ...      FullBath  \\\n",
       "0       196.0         706        150          856    ...             2   \n",
       "1         0.0         978        284         1262    ...             2   \n",
       "\n",
       "   HalfBath  BedroomAbvGr  KitchenAbvGr  TotRmsAbvGrd  Fireplaces  GarageCars  \\\n",
       "0         1             3             1             8           0           2   \n",
       "1         0             3             1             6           1           2   \n",
       "\n",
       "   GarageArea  MoSold  SalePrice  \n",
       "0         548       2     208500  \n",
       "1         460       5     181500  \n",
       "\n",
       "[2 rows x 26 columns]"
      ]
     },
     "execution_count": 39,
     "metadata": {},
     "output_type": "execute_result"
    }
   ],
   "source": [
    "train_x_b.head(2)"
   ]
  },
  {
   "cell_type": "markdown",
   "metadata": {},
   "source": [
    "### part c"
   ]
  },
  {
   "cell_type": "code",
   "execution_count": 40,
   "metadata": {
    "collapsed": false
   },
   "outputs": [],
   "source": [
    "colsrows= mydata.select_dtypes(include=['object'])   #finding columns which have string values in it's rows\n",
    "categorical_columns = colsrows.columns"
   ]
  },
  {
   "cell_type": "code",
   "execution_count": 41,
   "metadata": {
    "collapsed": false
   },
   "outputs": [
    {
     "name": "stdout",
     "output_type": "stream",
     "text": [
      "Index([u'Street'], dtype='object')\n"
     ]
    }
   ],
   "source": [
    "print(categorical_columns)"
   ]
  },
  {
   "cell_type": "markdown",
   "metadata": {},
   "source": [
    "### part d"
   ]
  },
  {
   "cell_type": "code",
   "execution_count": 42,
   "metadata": {
    "collapsed": false
   },
   "outputs": [],
   "source": [
    "from sklearn.preprocessing import OneHotEncoder,LabelEncoder,MinMaxScaler "
   ]
  },
  {
   "cell_type": "code",
   "execution_count": 43,
   "metadata": {
    "collapsed": false
   },
   "outputs": [
    {
     "name": "stdout",
     "output_type": "stream",
     "text": [
      "[[ 0.  1.]\n",
      " [ 0.  1.]\n",
      " [ 0.  1.]\n",
      " ..., \n",
      " [ 0.  1.]\n",
      " [ 0.  1.]\n",
      " [ 0.  1.]]\n"
     ]
    }
   ],
   "source": [
    "le = LabelEncoder()\n",
    "categorical_columns_encoded = le.fit_transform(colsrows)  #first I do label encoding then go for one hot encoding\n",
    "encoder = OneHotEncoder(sparse=False)\n",
    "categorical_columns_encoded = categorical_columns_encoded.reshape(len(categorical_columns_encoded), 1) \n",
    "encoded_1hot = encoder.fit_transform(categorical_columns_encoded) # in this way we get what we wanted like 2 columns of Grvl and Pave and their values as 1 or 0\n",
    "print encoded_1hot"
   ]
  },
  {
   "cell_type": "code",
   "execution_count": 44,
   "metadata": {
    "collapsed": false
   },
   "outputs": [],
   "source": [
    "train_x_d= pd.DataFrame(data = encoded_1hot, columns=[\"Grvl\",\"Pave\"]) #converted arrays to datafrome "
   ]
  },
  {
   "cell_type": "code",
   "execution_count": 45,
   "metadata": {
    "collapsed": false
   },
   "outputs": [
    {
     "data": {
      "text/html": [
       "<div>\n",
       "<table border=\"1\" class=\"dataframe\">\n",
       "  <thead>\n",
       "    <tr style=\"text-align: right;\">\n",
       "      <th></th>\n",
       "      <th>Grvl</th>\n",
       "      <th>Pave</th>\n",
       "    </tr>\n",
       "  </thead>\n",
       "  <tbody>\n",
       "    <tr>\n",
       "      <th>0</th>\n",
       "      <td>0.0</td>\n",
       "      <td>1.0</td>\n",
       "    </tr>\n",
       "    <tr>\n",
       "      <th>1</th>\n",
       "      <td>0.0</td>\n",
       "      <td>1.0</td>\n",
       "    </tr>\n",
       "  </tbody>\n",
       "</table>\n",
       "</div>"
      ],
      "text/plain": [
       "   Grvl  Pave\n",
       "0   0.0   1.0\n",
       "1   0.0   1.0"
      ]
     },
     "execution_count": 45,
     "metadata": {},
     "output_type": "execute_result"
    }
   ],
   "source": [
    "train_x_d.head(2)"
   ]
  },
  {
   "cell_type": "markdown",
   "metadata": {},
   "source": [
    "### part e"
   ]
  },
  {
   "cell_type": "code",
   "execution_count": 46,
   "metadata": {
    "collapsed": false
   },
   "outputs": [],
   "source": [
    "\n",
    "scaler = MinMaxScaler() # it's a scaling function\n",
    "\n",
    "train_x_d_scaled = pd.DataFrame(scaler.fit_transform(train_x_d), columns=train_x_d.columns) #creating new dataframe as a scaled version\n",
    "\n",
    "train_x_e = train_x_d_scaled"
   ]
  },
  {
   "cell_type": "code",
   "execution_count": 47,
   "metadata": {
    "collapsed": false
   },
   "outputs": [
    {
     "data": {
      "text/html": [
       "<div>\n",
       "<table border=\"1\" class=\"dataframe\">\n",
       "  <thead>\n",
       "    <tr style=\"text-align: right;\">\n",
       "      <th></th>\n",
       "      <th>Grvl</th>\n",
       "      <th>Pave</th>\n",
       "    </tr>\n",
       "  </thead>\n",
       "  <tbody>\n",
       "    <tr>\n",
       "      <th>0</th>\n",
       "      <td>0.0</td>\n",
       "      <td>1.0</td>\n",
       "    </tr>\n",
       "    <tr>\n",
       "      <th>1</th>\n",
       "      <td>0.0</td>\n",
       "      <td>1.0</td>\n",
       "    </tr>\n",
       "  </tbody>\n",
       "</table>\n",
       "</div>"
      ],
      "text/plain": [
       "   Grvl  Pave\n",
       "0   0.0   1.0\n",
       "1   0.0   1.0"
      ]
     },
     "execution_count": 47,
     "metadata": {},
     "output_type": "execute_result"
    }
   ],
   "source": [
    "train_x_e.head(2)"
   ]
  },
  {
   "cell_type": "markdown",
   "metadata": {},
   "source": [
    "## LINEAR REGRESSION TO PREDICT HOUSE PRICES"
   ]
  },
  {
   "cell_type": "markdown",
   "metadata": {},
   "source": [
    "### part f"
   ]
  },
  {
   "cell_type": "code",
   "execution_count": 48,
   "metadata": {
    "collapsed": false
   },
   "outputs": [
    {
     "name": "stdout",
     "output_type": "stream",
     "text": [
      "LinearRegression(copy_X=True, fit_intercept=True, n_jobs=1, normalize=False)\n"
     ]
    },
    {
     "data": {
      "text/plain": [
       "6428554787.008605"
      ]
     },
     "execution_count": 48,
     "metadata": {},
     "output_type": "execute_result"
    }
   ],
   "source": [
    "from sklearn.linear_model import LinearRegression\n",
    "from sklearn.metrics import mean_squared_error\n",
    "lin_reg = LinearRegression()\n",
    "lr_model = lin_reg.fit(train_x_e, train_y) \n",
    "print lr_model\n",
    "housing_predictions = lin_reg.predict(train_x_e) #predicting house prices with scaled training data\n",
    "lin_mse = mean_squared_error(train_y, housing_predictions) #figure mse out \n",
    "lin_mse"
   ]
  },
  {
   "cell_type": "markdown",
   "metadata": {},
   "source": [
    "# part g"
   ]
  },
  {
   "cell_type": "code",
   "execution_count": 49,
   "metadata": {
    "collapsed": false
   },
   "outputs": [
    {
     "name": "stdout",
     "output_type": "stream",
     "text": [
      "[ 76284.22019438  77497.40460278  81682.04431142  91229.67138889\n",
      "  73381.44854695]\n"
     ]
    }
   ],
   "source": [
    "from sklearn.model_selection import cross_val_score\n",
    "from sklearn.ensemble import RandomForestRegressor\n",
    "\n",
    "forest_reg = RandomForestRegressor(random_state=42) \n",
    "forest_reg.fit(train_x_e, train_y)  # training RandomForestRegressor\n",
    "scores = cross_val_score(forest_reg, train_x_e, train_y,\n",
    "scoring=\"neg_mean_squared_error\", cv=5) #performing 5-fold cross validation here\n",
    "train_mse_score = np.sqrt(-scores) #having mse score\n",
    "print(train_mse_score)"
   ]
  },
  {
   "cell_type": "code",
   "execution_count": 50,
   "metadata": {
    "collapsed": false
   },
   "outputs": [
    {
     "name": "stdout",
     "output_type": "stream",
     "text": [
      "80014.9578089\n"
     ]
    }
   ],
   "source": [
    "average_mse = train_mse_score.mean()  # average of train mean square error\n",
    "print(average_mse)"
   ]
  },
  {
   "cell_type": "markdown",
   "metadata": {},
   "source": [
    "### part h"
   ]
  },
  {
   "cell_type": "code",
   "execution_count": 51,
   "metadata": {
    "collapsed": false
   },
   "outputs": [],
   "source": [
    "test_x = pd.read_csv(\"test.csv\").drop(\"SalePrice\", axis=1) # loading data as I did above without SalePrice\n",
    "test_y =pd.read_csv(\"test.csv\")[\"SalePrice\"]  # loading data as I did above only SalePrice column\n",
    "nan_columns = test_x.columns[test_x.isnull().any()].tolist()  #looking for missing values and appending them to list\n",
    "test_x = test_x.fillna(test_x.mean()) #filling these missing values with mean of data\n",
    "colsrowstest= test_x.select_dtypes(include=['object'])  #selecting data which has string values\n",
    "categorical_columns_test = colsrowstest.columns \n",
    "categorical_columns_encoded_test = le.fit_transform(colsrowstest) #doing label encoding here\n",
    "categorical_columns_encoded_test = categorical_columns_encoded_test.reshape(len(categorical_columns_encoded_test), 1) #reshaping label encoded data\n",
    "encoded_1hot_test = encoder.fit_transform(categorical_columns_encoded_test) # one hot encoding here\n",
    "test_x = pd.DataFrame(data = encoded_1hot_test, columns=[\"Grvl\",\"Pave\"]) #havig a dataframe has columns as Grvl and Pave and their values as a 1 or 0\n",
    "test_x = pd.DataFrame(scaler.fit_transform(test_x), columns=test_x.columns) # scaling the new data\n",
    "\n"
   ]
  },
  {
   "cell_type": "code",
   "execution_count": 52,
   "metadata": {
    "collapsed": false
   },
   "outputs": [
    {
     "data": {
      "text/html": [
       "<div>\n",
       "<table border=\"1\" class=\"dataframe\">\n",
       "  <thead>\n",
       "    <tr style=\"text-align: right;\">\n",
       "      <th></th>\n",
       "      <th>Grvl</th>\n",
       "      <th>Pave</th>\n",
       "    </tr>\n",
       "  </thead>\n",
       "  <tbody>\n",
       "    <tr>\n",
       "      <th>0</th>\n",
       "      <td>0.0</td>\n",
       "      <td>1.0</td>\n",
       "    </tr>\n",
       "    <tr>\n",
       "      <th>1</th>\n",
       "      <td>0.0</td>\n",
       "      <td>1.0</td>\n",
       "    </tr>\n",
       "  </tbody>\n",
       "</table>\n",
       "</div>"
      ],
      "text/plain": [
       "   Grvl  Pave\n",
       "0   0.0   1.0\n",
       "1   0.0   1.0"
      ]
     },
     "execution_count": 52,
     "metadata": {},
     "output_type": "execute_result"
    }
   ],
   "source": [
    "test_x.head(2) #first 2 rows of new data"
   ]
  },
  {
   "cell_type": "code",
   "execution_count": 53,
   "metadata": {
    "collapsed": false
   },
   "outputs": [
    {
     "data": {
      "text/plain": [
       "0    82000\n",
       "1    86000\n",
       "Name: SalePrice, dtype: int64"
      ]
     },
     "execution_count": 53,
     "metadata": {},
     "output_type": "execute_result"
    }
   ],
   "source": [
    "test_y.head(2)"
   ]
  },
  {
   "cell_type": "markdown",
   "metadata": {},
   "source": [
    "### part i"
   ]
  },
  {
   "cell_type": "code",
   "execution_count": 54,
   "metadata": {
    "collapsed": false
   },
   "outputs": [],
   "source": [
    "predicted_values = lin_reg.predict(test_x) #predicting values by using linear regression"
   ]
  },
  {
   "cell_type": "code",
   "execution_count": 55,
   "metadata": {
    "collapsed": false
   },
   "outputs": [
    {
     "name": "stdout",
     "output_type": "stream",
     "text": [
      "[ 182501.01204819  182501.01204819  182501.01204819]\n"
     ]
    }
   ],
   "source": [
    "print(predicted_values[10:13])"
   ]
  },
  {
   "cell_type": "code",
   "execution_count": 56,
   "metadata": {
    "collapsed": false
   },
   "outputs": [
    {
     "name": "stdout",
     "output_type": "stream",
     "text": [
      "6014352594.27\n"
     ]
    }
   ],
   "source": [
    "lin_mse = mean_squared_error(test_y, predicted_values) #having mean square error\n",
    "print(lin_mse)"
   ]
  },
  {
   "cell_type": "markdown",
   "metadata": {},
   "source": [
    "## CLASSIFICATION MODEL TO PREDICT HOUSE PRICE CATEGORY"
   ]
  },
  {
   "cell_type": "markdown",
   "metadata": {},
   "source": [
    "### part j"
   ]
  },
  {
   "cell_type": "code",
   "execution_count": 57,
   "metadata": {
    "collapsed": false
   },
   "outputs": [
    {
     "name": "stdout",
     "output_type": "stream",
     "text": [
      "0      3\n",
      "1      2\n",
      "2      3\n",
      "3      2\n",
      "4      3\n",
      "5      2\n",
      "6      4\n",
      "7      3\n",
      "8      2\n",
      "9      2\n",
      "10     2\n",
      "11     4\n",
      "12     2\n",
      "13     3\n",
      "14     2\n",
      "15     2\n",
      "16     2\n",
      "17     1\n",
      "18     2\n",
      "19     2\n",
      "20     4\n",
      "21     2\n",
      "22     3\n",
      "23     2\n",
      "24     2\n",
      "25     3\n",
      "26     2\n",
      "27     4\n",
      "28     3\n",
      "29     1\n",
      "      ..\n",
      "970    2\n",
      "971    2\n",
      "972    1\n",
      "973    2\n",
      "974    2\n",
      "975    2\n",
      "976    1\n",
      "977    2\n",
      "978    2\n",
      "979    2\n",
      "980    2\n",
      "981    4\n",
      "982    2\n",
      "983    3\n",
      "984    2\n",
      "985    2\n",
      "986    2\n",
      "987    4\n",
      "988    2\n",
      "989    2\n",
      "990    4\n",
      "991    2\n",
      "992    2\n",
      "993    2\n",
      "994    4\n",
      "995    2\n",
      "996    2\n",
      "997    2\n",
      "998    1\n",
      "999    3\n",
      "Name: SalePrice, dtype: int64\n"
     ]
    }
   ],
   "source": [
    "for i in range(len(train_y)):  # here is i'm doing segmentation by using for loop, so i'm going into rows one by one\n",
    "    if train_y.loc[i] <100000: # and converting their values based on their range\n",
    "        train_y.loc[i] = 1\n",
    "    if train_y.loc[i] in range(100000, 200000):\n",
    "        train_y.loc[i] = 2\n",
    "    if train_y.loc[i] in range(200000, 300000):\n",
    "        train_y.loc[i] = 3\n",
    "    if train_y.loc[i] in range(300000, 400000):\n",
    "        train_y.loc[i] = 4\n",
    "    if train_y.loc[i] >= 400000:\n",
    "        train_y.loc[i] = 5\n",
    "print(train_y)"
   ]
  },
  {
   "cell_type": "code",
   "execution_count": 58,
   "metadata": {
    "collapsed": false
   },
   "outputs": [
    {
     "name": "stdout",
     "output_type": "stream",
     "text": [
      "0      1\n",
      "1      1\n",
      "2      3\n",
      "3      2\n",
      "4      2\n",
      "5      2\n",
      "6      2\n",
      "7      1\n",
      "8      3\n",
      "9      2\n",
      "10     2\n",
      "11     2\n",
      "12     2\n",
      "13     1\n",
      "14     2\n",
      "15     3\n",
      "16     3\n",
      "17     2\n",
      "18     2\n",
      "19     3\n",
      "20     2\n",
      "21     2\n",
      "22     1\n",
      "23     2\n",
      "24     3\n",
      "25     2\n",
      "26     2\n",
      "27     3\n",
      "28     2\n",
      "29     2\n",
      "      ..\n",
      "430    2\n",
      "431    2\n",
      "432    1\n",
      "433    2\n",
      "434    2\n",
      "435    2\n",
      "436    2\n",
      "437    4\n",
      "438    2\n",
      "439    2\n",
      "440    2\n",
      "441    2\n",
      "442    4\n",
      "443    2\n",
      "444    2\n",
      "445    2\n",
      "446    2\n",
      "447    3\n",
      "448    2\n",
      "449    1\n",
      "450    2\n",
      "451    3\n",
      "452    2\n",
      "453    1\n",
      "454    2\n",
      "455    2\n",
      "456    3\n",
      "457    3\n",
      "458    2\n",
      "459    2\n",
      "Name: SalePrice, dtype: int64\n"
     ]
    }
   ],
   "source": [
    "for k in range(len(test_y)):  #i'm doing same thing as i did above\n",
    "    if test_y.loc[k] <100000:\n",
    "        test_y.loc[k] = 1\n",
    "    if test_y.loc[k] in range(100000, 200000):\n",
    "        test_y.loc[k] = 2\n",
    "    if test_y.loc[k] in range(200000, 300000):\n",
    "        test_y.loc[k] = 3\n",
    "    if test_y.loc[k] in range(300000, 400000):\n",
    "        test_y.loc[k] = 4\n",
    "    if test_y.loc[k] >= 400000:\n",
    "        test_y.loc[k] = 5\n",
    "print (test_y)"
   ]
  },
  {
   "cell_type": "markdown",
   "metadata": {},
   "source": [
    "train_y = train_y_j\n",
    "test_y =test_y_j"
   ]
  },
  {
   "cell_type": "code",
   "execution_count": 59,
   "metadata": {
    "collapsed": false
   },
   "outputs": [
    {
     "data": {
      "text/plain": [
       "0    3\n",
       "1    2\n",
       "Name: SalePrice, dtype: int64"
      ]
     },
     "execution_count": 59,
     "metadata": {},
     "output_type": "execute_result"
    }
   ],
   "source": [
    "train_y.head(2)"
   ]
  },
  {
   "cell_type": "code",
   "execution_count": 60,
   "metadata": {
    "collapsed": false
   },
   "outputs": [
    {
     "data": {
      "text/plain": [
       "0    1\n",
       "1    1\n",
       "Name: SalePrice, dtype: int64"
      ]
     },
     "execution_count": 60,
     "metadata": {},
     "output_type": "execute_result"
    }
   ],
   "source": [
    "test_y.head(2)"
   ]
  },
  {
   "cell_type": "markdown",
   "metadata": {},
   "source": [
    "### part k"
   ]
  },
  {
   "cell_type": "code",
   "execution_count": 64,
   "metadata": {
    "collapsed": false
   },
   "outputs": [],
   "source": [
    "from sklearn import linear_model\n",
    "from sklearn.linear_model import SGDClassifier # i'm training SGDC classifier here for prediction\n",
    "sgd_clf = linear_model.SGDClassifier(random_state=42)\n",
    "sgd_clf.fit(train_x_e, train_y)\n",
    "prediction = sgd_clf.predict(train_x_e) # here i have a prediction for training data\n"
   ]
  },
  {
   "cell_type": "markdown",
   "metadata": {},
   "source": [
    "### part l"
   ]
  },
  {
   "cell_type": "code",
   "execution_count": 65,
   "metadata": {
    "collapsed": false
   },
   "outputs": [],
   "source": [
    "from sklearn.metrics import precision_score, recall_score,f1_score,confusion_matrix\n",
    "scores = cross_val_score(forest_reg, train_x_e, train_y, cv=5,)  # here i do 5-fold cross validation\n",
    "accuracy = scores #having an accuracy\n",
    "precision = precision_score(train_y, prediction ,average = \"micro\" )  # this function for precision\n",
    "recall = recall_score(train_y, prediction, average = \"micro\") # this functionfor recall\n",
    "f1 = f1_score(train_y, prediction, average = \"micro\") #this function f1 score\n",
    "confusion_matrix = confusion_matrix(train_y, prediction) # and this function for confusion matrix"
   ]
  },
  {
   "cell_type": "code",
   "execution_count": 66,
   "metadata": {
    "collapsed": false
   },
   "outputs": [
    {
     "name": "stdout",
     "output_type": "stream",
     "text": [
      "[[  0   1  76   0   0]\n",
      " [  0   2 612   0   0]\n",
      " [  0   1 220   0   0]\n",
      " [  0   0  67   0   0]\n",
      " [  0   0  21   0   0]]\n",
      "accuracy: [-0.00356612 -0.00775631 -0.00041636 -0.00175955 -0.01848357]\n",
      "precision: 0.222\n",
      "recall: 0.222\n",
      "f1: 0.222\n"
     ]
    }
   ],
   "source": [
    "print(confusion_matrix)\n",
    "print(\"accuracy: {}\\nprecision: {}\\nrecall: {}\\nf1: {}\".format(accuracy,precision,recall,f1)) "
   ]
  },
  {
   "cell_type": "markdown",
   "metadata": {},
   "source": [
    "### part m"
   ]
  },
  {
   "cell_type": "code",
   "execution_count": 67,
   "metadata": {
    "collapsed": true
   },
   "outputs": [],
   "source": [
    "sgd_clf = linear_model.SGDClassifier(random_state=42)\n",
    "sgd_clf.fit(test_x, test_y)\n",
    "predicted_values = sgd_clf.predict(test_x) #here ı do prediction for test data with same model"
   ]
  },
  {
   "cell_type": "code",
   "execution_count": 68,
   "metadata": {
    "collapsed": false
   },
   "outputs": [
    {
     "name": "stdout",
     "output_type": "stream",
     "text": [
      "[2 2 2]\n"
     ]
    }
   ],
   "source": [
    "print(predicted_values[20:23])"
   ]
  },
  {
   "cell_type": "code",
   "execution_count": 69,
   "metadata": {
    "collapsed": false
   },
   "outputs": [],
   "source": [
    "scores_test = cross_val_score(forest_reg, test_x, test_y, cv=5,) # i'm doing same things here as i did above\n",
    "accuracy = scores_test\n",
    "precision = precision_score(test_y, predicted_values ,average = \"micro\" )\n",
    "recall = recall_score(test_y, predicted_values, average = \"micro\")\n",
    "f1 = f1_score(test_y, predicted_values, average = \"micro\")\n",
    "#confusion_matrix = confusion_matrix(test_y, predicted_values)"
   ]
  },
  {
   "cell_type": "code",
   "execution_count": 70,
   "metadata": {
    "collapsed": false
   },
   "outputs": [
    {
     "name": "stdout",
     "output_type": "stream",
     "text": [
      "[[  0   1  76   0   0]\n",
      " [  0   2 612   0   0]\n",
      " [  0   1 220   0   0]\n",
      " [  0   0  67   0   0]\n",
      " [  0   0  21   0   0]]\n",
      "accuracy: [ -1.35518070e-02  -1.17811115e-02   1.57598214e-04  -1.57885859e-02\n",
      "  -8.12707033e-06]\n",
      "precision: 0.645652173913\n",
      "recall: 0.645652173913\n",
      "f1: 0.645652173913\n"
     ]
    }
   ],
   "source": [
    "print(confusion_matrix)\n",
    "print(\"accuracy: {}\\nprecision: {}\\nrecall: {}\\nf1: {}\".format(accuracy,precision,recall,f1)) "
   ]
  },
  {
   "cell_type": "code",
   "execution_count": null,
   "metadata": {
    "collapsed": true
   },
   "outputs": [],
   "source": []
  }
 ],
 "metadata": {
  "kernelspec": {
   "display_name": "Python 2",
   "language": "python",
   "name": "python2"
  },
  "language_info": {
   "codemirror_mode": {
    "name": "ipython",
    "version": 2
   },
   "file_extension": ".py",
   "mimetype": "text/x-python",
   "name": "python",
   "nbconvert_exporter": "python",
   "pygments_lexer": "ipython2",
   "version": "2.7.13"
  }
 },
 "nbformat": 4,
 "nbformat_minor": 2
}
