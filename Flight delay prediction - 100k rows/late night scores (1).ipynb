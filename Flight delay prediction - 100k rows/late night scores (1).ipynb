{
 "cells": [
  {
   "cell_type": "code",
   "execution_count": 1,
   "metadata": {
    "colab": {},
    "colab_type": "code",
    "id": "RjHbENPIO457"
   },
   "outputs": [],
   "source": [
    "# packages\n",
    "import pandas as pd\n",
    "import numpy as np\n",
    "from sklearn.model_selection  import train_test_split, GridSearchCV\n",
    "from sklearn.feature_extraction import FeatureHasher\n",
    "from sklearn import svm\n",
    "from sklearn.svm import SVR\n",
    "from sklearn.linear_model import LogisticRegression, LinearRegression\n",
    "from sklearn.ensemble import RandomForestRegressor, AdaBoostRegressor\n",
    "import pickle\n",
    "from sklearn.metrics import mean_squared_error,accuracy_score, r2_score\n",
    "from sklearn.preprocessing import MinMaxScaler\n",
    "from sklearn import tree\n",
    "from sklearn.ensemble import RandomForestRegressor\n",
    "from sklearn.tree import DecisionTreeRegressor\n",
    "import matplotlib\n",
    "import matplotlib.pyplot as plt"
   ]
  },
  {
   "cell_type": "code",
   "execution_count": 4,
   "metadata": {
    "colab": {
     "base_uri": "https://localhost:8080/",
     "height": 34
    },
    "colab_type": "code",
    "id": "Xa4f0seZO46C",
    "outputId": "324d7f8e-e347-44ac-cf9d-4363379afcd7"
   },
   "outputs": [],
   "source": [
    "# Load the Drive helper and mount\n",
    "# from google.colab import drive\n",
    "\n",
    "# This will prompt for authorization.\n",
    "# drive.mount('/content/drive')\n",
    "# pandas, read csv as a dataframe\n",
    "# df = pd.read_csv('/content/drive/My Drive/Colab Notebooks/training.csv')\n",
    "\n",
    "df = pd.read_csv('./training.csv')"
   ]
  },
  {
   "cell_type": "code",
   "execution_count": 5,
   "metadata": {
    "colab": {
     "base_uri": "https://localhost:8080/",
     "height": 34
    },
    "colab_type": "code",
    "id": "EzUcaWNtO46F",
    "outputId": "892611e9-2fb2-4e47-c9ed-a6849ad0c84d"
   },
   "outputs": [
    {
     "name": "stdout",
     "output_type": "stream",
     "text": [
      "['DISTANCE']\n"
     ]
    }
   ],
   "source": [
    "#fill nulls (only DISTANCE contains null)\n",
    "nulls = df.isnull().sum().to_dict() # build a dictionary for null values\n",
    "nan_columns = [col for col,null in nulls.items() if null>0] # find nulls\n",
    "print(nan_columns)\n",
    "df = df.fillna(df[nan_columns].mean()) # fill nulls with mean"
   ]
  },
  {
   "cell_type": "code",
   "execution_count": 6,
   "metadata": {
    "colab": {},
    "colab_type": "code",
    "id": "ClRY4qjkO46M"
   },
   "outputs": [],
   "source": [
    "#desired dataframe\n",
    "x = df[['DAY_OF_MONTH','CRS_ARR_H','CRS_DEP_H','DEP_DELAY','DISTANCE','DAYS_TO_HOLIDAY']].copy()\n",
    "y = df['ARR_DELAY'].copy()\n",
    "# print x\n",
    "\n",
    "# split and shuffle\n",
    "x_train, x_test, y_train, y_test = train_test_split(x, y, test_size = 0.20, random_state = 0, shuffle=False)"
   ]
  },
  {
   "cell_type": "markdown",
   "metadata": {},
   "source": [
    "# FINAL MODEL - AdaBoostRegressor"
   ]
  },
  {
   "cell_type": "code",
   "execution_count": 9,
   "metadata": {
    "colab": {
     "base_uri": "https://localhost:8080/",
     "height": 34
    },
    "colab_type": "code",
    "id": "Ed4gAPXuvKkA",
    "outputId": "7650fc30-6e16-4931-f679-9f4afe002d73"
   },
   "outputs": [
    {
     "name": "stdout",
     "output_type": "stream",
     "text": [
      "0.39160514560473014   36.793626797316435\n"
     ]
    }
   ],
   "source": [
    "# 78 estimators\n",
    "adaboost_model = AdaBoostRegressor(\n",
    "    DecisionTreeRegressor(random_state=0,max_depth=90,max_features=3,min_samples_leaf=5,min_samples_split=5),\n",
    "    random_state=0, n_estimators = 78\n",
    ")\n",
    "adaboost_model.fit(x_train,y_train)\n",
    "single_pred = adaboost_model.predict(x_test)\n",
    "r2 = r2_score(y_test,single_pred)\n",
    "rmse_ = np.sqrt(mean_squared_error(y_test,single_pred))\n",
    "print(r2,\" \",rmse_)"
   ]
  },
  {
   "cell_type": "markdown",
   "metadata": {
    "colab_type": "text",
    "id": "h_kq6qMkO46S"
   },
   "source": [
    "# Random Forest with best parameters"
   ]
  },
  {
   "cell_type": "code",
   "execution_count": 0,
   "metadata": {
    "colab": {},
    "colab_type": "code",
    "id": "sUAUtPSsO46U"
   },
   "outputs": [],
   "source": [
    "from sklearn.model_selection import RandomizedSearchCV\n",
    "# Number of trees in random forest\n",
    "n_estimators = [int(x) for x in np.linspace(start = 200, stop = 2000, num = 10)]\n",
    "# Number of features to consider at every split\n",
    "max_features = ['auto', 'sqrt']\n",
    "# Maximum number of levels in tree\n",
    "max_depth = [int(x) for x in np.linspace(10, 110, num = 11)]\n",
    "max_depth.append(None)\n",
    "# Minimum number of samples required to split a node\n",
    "min_samples_split = [2, 5, 10]\n",
    "# Minimum number of samples required at each leaf node\n",
    "min_samples_leaf = [1, 2, 4]\n",
    "# Method of selecting samples for training each tree\n",
    "bootstrap = [True, False]\n",
    "# Create the random grid\n",
    "random_grid = {'n_estimators': n_estimators,\n",
    "               'max_features': max_features,\n",
    "               'max_depth': max_depth,\n",
    "               'min_samples_split': min_samples_split,\n",
    "               'min_samples_leaf': min_samples_leaf,\n",
    "               'bootstrap': bootstrap}\n",
    "\n",
    "params = {'n_estimators': [1000],\n",
    "            'max_features': ['sqrt'],\n",
    "            'max_depth': [50,70,90],\n",
    "            'min_samples_split': [2,5,10],\n",
    "            'min_samples_leaf': [2,4,6],\n",
    "            'bootstrap': [True]}\n",
    "\n",
    "#tree_model = tree.DecisionTreeRegressor()\n",
    "#params = [{'n_estimators':[1000,5000,500,10000], \n",
    " #          'max_features':[1,2,3,4,5,6]}]\n",
    "#model_tuning = GridSearchCV(tree_model, params, cv=5)"
   ]
  },
  {
   "cell_type": "code",
   "execution_count": 0,
   "metadata": {
    "colab": {},
    "colab_type": "code",
    "id": "Uz3PnryUO46X"
   },
   "outputs": [],
   "source": [
    "# Use the random grid to search for best hyperparameters\n",
    "# First create the base model to tune\n",
    "rndf_model = RandomForestRegressor()\n",
    "# Random search of parameters, using 3 fold cross validation, \n",
    "# search across 100 different combinations, and use all available cores\n",
    "# rf_random = RandomizedSearchCV(estimator = rf, param_distributions = random_grid, n_iter = 100, cv = 3, verbose=2, random_state=42, n_jobs = -1)\n",
    "grid_model = GridSearchCV(rndf_model, params, cv=3)"
   ]
  },
  {
   "cell_type": "code",
   "execution_count": 0,
   "metadata": {
    "colab": {},
    "colab_type": "code",
    "id": "N6LrrALbO46c"
   },
   "outputs": [],
   "source": [
    "# Fit the random search model\n",
    "rf_random.fit(x_train, y_train)"
   ]
  },
  {
   "cell_type": "code",
   "execution_count": 0,
   "metadata": {
    "colab": {},
    "colab_type": "code",
    "id": "KdPSQnOXO46g"
   },
   "outputs": [],
   "source": [
    "predictions = rf.predict(x_test)\n"
   ]
  },
  {
   "cell_type": "code",
   "execution_count": 0,
   "metadata": {
    "colab": {},
    "colab_type": "code",
    "id": "MDaOC4F6O46k"
   },
   "outputs": [],
   "source": [
    "print(r2_score(y_test,predictions))\n",
    "print(np.sqrt(mean_squared_error(y_test,predictions)))"
   ]
  },
  {
   "cell_type": "markdown",
   "metadata": {
    "colab_type": "text",
    "id": "DObSateFO46p"
   },
   "source": [
    "# Random Forest randomly paramaters"
   ]
  },
  {
   "cell_type": "code",
   "execution_count": 0,
   "metadata": {
    "colab": {},
    "colab_type": "code",
    "id": "hBrq-o14O46r"
   },
   "outputs": [],
   "source": [
    "# rf2 = RandomForestRegressor(n_estimators=1000, random_state=0)\n",
    "# rnd_clf = RandomForestRegressor(random_state=0, \n",
    "#                                 n_estimators=1000,\n",
    "#                                 max_features='sqrt',\n",
    "#                                 max_depth=50,\n",
    "#                                 min_samples_split=2,\n",
    "#                                 min_samples_leaf=1,\n",
    "#                                 bootstrap=True)\n",
    "# rnd_clf.fit(x_train,y_train)\n",
    "\n",
    "from sklearn.model_selection import GridSearchCV\n",
    "# Create the parameter grid based on the results of random search \n",
    "param_grid = {\n",
    "    'bootstrap': [True],\n",
    "    'max_depth': [80, 90, 100, 110],\n",
    "    'max_features': [2, 3],\n",
    "    'min_samples_leaf': [3, 4, 5],\n",
    "    'min_samples_split': [8, 10, 12],\n",
    "    'n_estimators': [100, 200, 300, 1000]\n",
    "}\n",
    "# Create a based model\n",
    "rf = RandomForestRegressor()\n",
    "# Instantiate the grid search model\n",
    "grid_search = GridSearchCV(estimator = rf, param_grid = param_grid, \n",
    "                          cv = 3, n_jobs = -1, verbose = 2)"
   ]
  },
  {
   "cell_type": "code",
   "execution_count": 74,
   "metadata": {
    "colab": {
     "base_uri": "https://localhost:8080/",
     "height": 389
    },
    "colab_type": "code",
    "id": "RojOOkVpwzbt",
    "outputId": "1688c8ba-bff4-460b-f3dc-7394e65b7d7a"
   },
   "outputs": [
    {
     "name": "stdout",
     "output_type": "stream",
     "text": [
      "Fitting 3 folds for each of 288 candidates, totalling 864 fits\n"
     ]
    },
    {
     "name": "stderr",
     "output_type": "stream",
     "text": [
      "[Parallel(n_jobs=-1)]: Using backend LokyBackend with 2 concurrent workers.\n",
      "/usr/local/lib/python3.6/dist-packages/sklearn/externals/joblib/externals/loky/process_executor.py:706: UserWarning: A worker stopped while some jobs were given to the executor. This can be caused by a too short worker timeout or by a memory leak.\n",
      "  \"timeout or by a memory leak.\", UserWarning\n",
      "[Parallel(n_jobs=-1)]: Done  37 tasks      | elapsed: 14.6min\n",
      "[Parallel(n_jobs=-1)]: Done 158 tasks      | elapsed: 70.2min\n",
      "[Parallel(n_jobs=-1)]: Done 361 tasks      | elapsed: 165.4min\n",
      "[Parallel(n_jobs=-1)]: Done 644 tasks      | elapsed: 293.7min\n",
      "[Parallel(n_jobs=-1)]: Done 864 out of 864 | elapsed: 384.6min finished\n"
     ]
    },
    {
     "data": {
      "text/plain": [
       "GridSearchCV(cv=3, error_score='raise-deprecating',\n",
       "       estimator=RandomForestRegressor(bootstrap=True, criterion='mse', max_depth=None,\n",
       "           max_features='auto', max_leaf_nodes=None,\n",
       "           min_impurity_decrease=0.0, min_impurity_split=None,\n",
       "           min_samples_leaf=1, min_samples_split=2,\n",
       "           min_weight_fraction_leaf=0.0, n_estimators='warn', n_jobs=None,\n",
       "           oob_score=False, random_state=None, verbose=0, warm_start=False),\n",
       "       fit_params=None, iid='warn', n_jobs=-1,\n",
       "       param_grid={'bootstrap': [True], 'max_depth': [80, 90, 100, 110], 'max_features': [2, 3], 'min_samples_leaf': [3, 4, 5], 'min_samples_split': [8, 10, 12], 'n_estimators': [100, 200, 300, 1000]},\n",
       "       pre_dispatch='2*n_jobs', refit=True, return_train_score='warn',\n",
       "       scoring=None, verbose=2)"
      ]
     },
     "execution_count": 74,
     "metadata": {
      "tags": []
     },
     "output_type": "execute_result"
    }
   ],
   "source": [
    "grid_search.fit(x_train,y_train)"
   ]
  },
  {
   "cell_type": "code",
   "execution_count": 0,
   "metadata": {
    "colab": {},
    "colab_type": "code",
    "id": "zPDunfckhFk2"
   },
   "outputs": [],
   "source": [
    "# save model in pickle file\n",
    "# pickle.dump(grid_search, open(\"./grid_search_rndf.pickle\",\"wb\"))\n",
    "grid_search_rndf = pickle.load(open(\"./grid_search_rndf.pickle\",\"rb\"))"
   ]
  },
  {
   "cell_type": "code",
   "execution_count": 104,
   "metadata": {
    "colab": {
     "base_uri": "https://localhost:8080/",
     "height": 230
    },
    "colab_type": "code",
    "id": "kkgC8YMShUOC",
    "outputId": "7f7587ad-2e77-47df-9a0f-243fbd808c66"
   },
   "outputs": [
    {
     "name": "stdout",
     "output_type": "stream",
     "text": [
      "GridSearchCV(cv=3, error_score='raise-deprecating',\n",
      "       estimator=RandomForestRegressor(bootstrap=True, criterion='mse', max_depth=None,\n",
      "           max_features='auto', max_leaf_nodes=None,\n",
      "           min_impurity_decrease=0.0, min_impurity_split=None,\n",
      "           min_samples_leaf=1, min_samples_split=2,\n",
      "           min_weight_fraction_leaf=0.0, n_estimators='warn', n_jobs=None,\n",
      "           oob_score=False, random_state=None, verbose=0, warm_start=False),\n",
      "       fit_params=None, iid='warn', n_jobs=-1,\n",
      "       param_grid={'bootstrap': [True], 'max_depth': [80, 90, 100, 110], 'max_features': [2, 3], 'min_samples_leaf': [3, 4, 5], 'min_samples_split': [8, 10, 12], 'n_estimators': [100, 200, 300, 1000]},\n",
      "       pre_dispatch='2*n_jobs', refit=True, return_train_score='warn',\n",
      "       scoring=None, verbose=2)\n"
     ]
    }
   ],
   "source": [
    "print(grid_search_rndf)"
   ]
  },
  {
   "cell_type": "code",
   "execution_count": 76,
   "metadata": {
    "colab": {
     "base_uri": "https://localhost:8080/",
     "height": 52
    },
    "colab_type": "code",
    "id": "A23opZupO460",
    "outputId": "40e8b458-8e75-43cc-e17e-8996d759ff13"
   },
   "outputs": [
    {
     "name": "stdout",
     "output_type": "stream",
     "text": [
      "0.28080435324581765\n",
      "40.00399439753423\n"
     ]
    }
   ],
   "source": [
    "# pred_tree = rnd_clf.predict(x_test)\n",
    "# print(r2_score(y_test,pred_tree))\n",
    "# print(np.sqrt(mean_squared_error(y_test,pred_tree)))\n",
    "\n",
    "\n",
    "\n",
    "pred_tree = grid_search.predict(x_test)\n",
    "print(r2_score(y_test,pred_tree))\n",
    "print(np.sqrt(mean_squared_error(y_test,pred_tree)))"
   ]
  },
  {
   "cell_type": "code",
   "execution_count": 80,
   "metadata": {
    "colab": {
     "base_uri": "https://localhost:8080/",
     "height": 122
    },
    "colab_type": "code",
    "id": "hod-J4AmO46v",
    "outputId": "5e8ec075-0832-459d-a7c3-a5bc72eb4150"
   },
   "outputs": [
    {
     "data": {
      "text/plain": [
       "{'bootstrap': True,\n",
       " 'max_depth': 100,\n",
       " 'max_features': 2,\n",
       " 'min_samples_leaf': 3,\n",
       " 'min_samples_split': 8,\n",
       " 'n_estimators': 1000}"
      ]
     },
     "execution_count": 80,
     "metadata": {
      "tags": []
     },
     "output_type": "execute_result"
    }
   ],
   "source": [
    "grid_search.best_params_"
   ]
  },
  {
   "cell_type": "markdown",
   "metadata": {
    "colab_type": "text",
    "id": "YS7VMzGTvEXh"
   },
   "source": [
    "# AdaBoost regressor"
   ]
  },
  {
   "cell_type": "code",
   "execution_count": 0,
   "metadata": {
    "colab": {},
    "colab_type": "code",
    "id": "dSbnAvYFXGIi"
   },
   "outputs": [],
   "source": []
  },
  {
   "cell_type": "code",
   "execution_count": 0,
   "metadata": {
    "colab": {},
    "colab_type": "code",
    "id": "dpqSOYCJW7Ky"
   },
   "outputs": [],
   "source": [
    "adaboost_model = AdaBoostRegressor(\n",
    "#     DecisionTreeRegressor(random_state=0,max_depth=90,max_features=3,min_samples_leaf=5,min_samples_split=5),\n",
    "    DecisionTreeRegressor(random_state=0),\n",
    "    random_state=0\n",
    ")"
   ]
  },
  {
   "cell_type": "code",
   "execution_count": 98,
   "metadata": {
    "colab": {
     "base_uri": "https://localhost:8080/",
     "height": 743
    },
    "colab_type": "code",
    "id": "f_4kIwtevYRZ",
    "outputId": "ce5a5ed3-03a7-44ba-94f1-d7ae87de1f77"
   },
   "outputs": [
    {
     "name": "stdout",
     "output_type": "stream",
     "text": [
      "# 1# 2# 3# 4# 5# 6# 7# 8# 9# 10# 11# 12# 13# 14# 15# 16# 17# 18# 19# 20# 21# 22# 23# 24# 25# 26# 27# 28# 29# 30# 31# 32# 33# 34# 35# 36# 37# 38# 39# 40# 41# 42# 43# 44# 45# 46# 47# 48# 49# 50# 51# 52# 53# 54# 55# 56# 57# 58# 59# 60# 61# 62# 63# 64# 65# 66# 67# 68# 69# 70# 71# 72# 73# 74# 75# 76# 77# 78# 79# 80# 81# 82# 83# 84# 85# 86# 87# 88# 89# 90# 91# 92# 93# 94# 95# 96# 97# 98# 99"
     ]
    },
    {
     "data": {
      "image/png": "[encoded data removed]",
      "text/plain": [
       "<matplotlib.figure.Figure at 0x7f859bf1a518>"
      ]
     },
     "metadata": {
      "tags": []
     },
     "output_type": "display_data"
    },
    {
     "data": {
      "image/png": "[encoded data removed]",
      "text/plain": [
       "<matplotlib.figure.Figure at 0x7f859bf0c748>"
      ]
     },
     "metadata": {
      "tags": []
     },
     "output_type": "display_data"
    }
   ],
   "source": [
    "# PLOT\n",
    "rmse = []\n",
    "r2_scr = []\n",
    "for i in range(1,100):\n",
    "    adaboost_model.n_estimators = i\n",
    "    adaboost_model.fit(x_train,y_train)\n",
    "    \n",
    "    test_pred = adaboost_model.predict(x_test)\n",
    "    r2 = r2_score(y_test,test_pred)\n",
    "    rmse_ = np.sqrt(mean_squared_error(y_test,test_pred))\n",
    "    \n",
    "    rmse.append(rmse_)\n",
    "    r2_scr.append(r2)\n",
    "    print(\"#\", i, sep=' ', end='', flush=True) # progress bar\n",
    "    \n",
    "# plt.plot(train_accuracy, \"r-+\", label=\"train accuracy\")\n",
    "plt.plot(r2_scr, \"b-+\", label=\"r2 score\")\n",
    "plt.xlabel(\"Number of Models\")\n",
    "plt.ylabel(\"r2 score\")\n",
    "plt.show()\n",
    "plt.plot(rmse, \"g-+\", label=\"RMSE\")\n",
    "plt.xlabel(\"Number of Models\")\n",
    "plt.ylabel(\"rmse\")\n",
    "plt.show()"
   ]
  },
  {
   "cell_type": "code",
   "execution_count": 0,
   "metadata": {
    "colab": {},
    "colab_type": "code",
    "id": "Uik9xKTwU7Oy"
   },
   "outputs": [],
   "source": [
    "plt.show()"
   ]
  },
  {
   "cell_type": "code",
   "execution_count": 102,
   "metadata": {
    "colab": {
     "base_uri": "https://localhost:8080/",
     "height": 107
    },
    "colab_type": "code",
    "id": "azrVamTg1Ju2",
    "outputId": "df92c282-21c6-432b-efcc-c7f273400544"
   },
   "outputs": [
    {
     "name": "stdout",
     "output_type": "stream",
     "text": [
      "0.39160514560473014\n",
      "36.793626797316435\n",
      "[-0.10032348285159376, -0.10032348285159376, 0.23863550298793534, 0.23863550298793534, 0.2899202673864608, 0.30008991234733584, 0.31226466177553724, 0.3192045467722978, 0.32775141745848846, 0.32402789223910433, 0.3350008917752756, 0.33577014287257356, 0.34343894469455394, 0.37813163767955005, 0.34747305692336417, 0.3431791641710171, 0.35089138208202686, 0.3514767657897231, 0.35369196843378037, 0.3563679546791886, 0.35539935090737784, 0.360522630670272, 0.3609683142330222, 0.36314109133634287, 0.36190933503772094, 0.36304482851301767, 0.36575945522318, 0.3680613389243702, 0.3689102121493206, 0.3699995605036277, 0.36921990832926743, 0.37017733055400026, 0.37052713285951944, 0.3732762769037633, 0.37374679949006395, 0.37552210862984625, 0.3760280972847764, 0.3753786943624361, 0.3767245243525543, 0.3780001198264099, 0.3800522649066407, 0.37937317886607536, 0.38045172072413436, 0.3826424116801175, 0.38247400762518813, 0.38331909765354166, 0.3830378400481216, 0.3818289360313569, 0.38253178554318734, 0.38335652283949795, 0.38263611667951425, 0.38292067422577947, 0.38246786741637384, 0.3821200014584968, 0.3821677116561314, 0.38436744769206166, 0.38253686919799457, 0.38237050397432726, 0.38151914954468646, 0.38280503822715395, 0.38528784073850586, 0.38685803130274277, 0.38647360990637625, 0.3873643983981191, 0.38829526730802366, 0.38854712865048213, 0.38838219614126535, 0.38849831867193163, 0.38816406048824903, 0.38850183101341806, 0.3878004663024265, 0.3884100868868755, 0.38751750075729874, 0.3883823206865299, 0.38840601443896694, 0.3881535045200588, 0.3891463124064638, 0.39160514560473014, 0.3888910745641012, 0.38961755103724305, 0.38894867254574916, 0.38816265720486276, 0.3888446898923934, 0.38757379360422173, 0.38735654182507695, 0.38725231537259575, 0.3869998507827286, 0.3871207445031588, 0.38693178812036944, 0.3868833857380486, 0.3861686879882157, 0.386621797482371, 0.3864094601969358, 0.3848517238531862, 0.3865794518808876, 0.38686301309897386, 0.3865763033072316, 0.38680342805969026, 0.3866985766347433]\n",
      "[49.48117723524169, 49.48117723524169, 41.160073681833346, 41.160073681833346, 39.749657532957265, 39.46398698900687, 39.11924848603811, 38.92137335384933, 38.67628754300607, 38.78325189262571, 38.46718129106345, 38.44492601020778, 38.222350619775995, 37.19881147036542, 38.10474477497474, 38.229911561884094, 38.004806033010446, 37.98766528665454, 37.92273133009043, 37.844141893117914, 37.87260706843785, 37.72180126140979, 37.708653871146645, 37.644492527464244, 37.68087926962529, 37.64733744975322, 37.56702756732055, 37.49879357162333, 37.473599339381906, 37.441243059975896, 37.46440345717367, 37.4359602055148, 37.42556283130943, 37.34374767101752, 37.329726839136534, 37.276777936934785, 37.26167295945106, 37.281058084377655, 37.24087291829164, 37.202744818225916, 37.14132317867944, 37.161659772728235, 37.12935546959379, 37.06365358974123, 37.06870839434501, 37.043335275504376, 37.05178172816539, 37.088064445515755, 37.066974213986434, 37.04221121382167, 37.063842552452115, 37.05529976919764, 37.068892685408905, 37.07933197245203, 37.0779003866975, 37.01183527254244, 37.066821626302485, 37.07181481087071, 37.09735632504756, 37.058771548021134, 36.98415790437374, 36.93689244320649, 36.94846978381864, 36.92163701207004, 36.89357606572309, 36.88598006248197, 36.89095451540779, 36.88745226749693, 36.8975325736431, 36.88734633032707, 36.908494446678056, 36.89011336268829, 36.91702322295167, 36.8909507593089, 36.890236184216, 36.89785086771104, 36.867902710761214, 36.793626797316435, 36.87560431047669, 36.85367922949266, 36.87386647754631, 36.89757488699985, 36.87700375849072, 36.91532667481147, 36.921873756888054, 36.92501430479742, 36.932620452306075, 36.92897841236681, 36.93467074765001, 36.93612873449018, 36.95765031701365, 36.94400735569772, 36.95040138096351, 36.997275064745494, 36.945282579700354, 36.936742386241924, 36.94537739621289, 36.93853711060618, 36.94169506425255]\n"
     ]
    }
   ],
   "source": [
    "print(np.max(r2_scr))\n",
    "print(np.min(rmse))\n",
    "\n",
    "print(r2_scr)\n",
    "print(rmse)"
   ]
  },
  {
   "cell_type": "markdown",
   "metadata": {
    "colab_type": "text",
    "id": "yi8wtNZ71Kf-"
   },
   "source": [
    "# Grid seach tree"
   ]
  },
  {
   "cell_type": "code",
   "execution_count": 0,
   "metadata": {
    "colab": {},
    "colab_type": "code",
    "id": "0I34sGN1wGpB"
   },
   "outputs": [],
   "source": [
    "# Grid search\n",
    "tree_model = tree.DecisionTreeRegressor()\n",
    "params = [{'max_depth':[50,70,90,110], \n",
    "           'max_features':[3,4,5,6],\n",
    "        'min_samples_split':[2,5,6],\n",
    "         'min_samples_leaf':[1,2,3,4,5],\n",
    "          }]\n",
    "model_tuning = GridSearchCV(tree_model, params, cv=5)"
   ]
  },
  {
   "cell_type": "code",
   "execution_count": 0,
   "metadata": {
    "colab": {
     "base_uri": "https://localhost:8080/",
     "height": 193
    },
    "colab_type": "code",
    "id": "HuFrRTHp1QkY",
    "outputId": "c570899a-87bf-4d1a-8efa-0effa7fcc504"
   },
   "outputs": [
    {
     "data": {
      "text/plain": [
       "GridSearchCV(cv=5, error_score='raise-deprecating',\n",
       "       estimator=DecisionTreeRegressor(criterion='mse', max_depth=None, max_features=None,\n",
       "           max_leaf_nodes=None, min_impurity_decrease=0.0,\n",
       "           min_impurity_split=None, min_samples_leaf=1,\n",
       "           min_samples_split=2, min_weight_fraction_leaf=0.0,\n",
       "           presort=False, random_state=None, splitter='best'),\n",
       "       fit_params=None, iid='warn', n_jobs=None,\n",
       "       param_grid=[{'max_depth': [50, 70, 90, 110], 'max_features': [3, 4, 5, 6], 'min_samples_split': [2, 5, 6], 'min_samples_leaf': [1, 2, 3, 4, 5]}],\n",
       "       pre_dispatch='2*n_jobs', refit=True, return_train_score='warn',\n",
       "       scoring=None, verbose=0)"
      ]
     },
     "execution_count": 15,
     "metadata": {
      "tags": []
     },
     "output_type": "execute_result"
    }
   ],
   "source": [
    "model_tuning.fit(x_train, y_train)"
   ]
  },
  {
   "cell_type": "code",
   "execution_count": 0,
   "metadata": {
    "colab": {
     "base_uri": "https://localhost:8080/",
     "height": 52
    },
    "colab_type": "code",
    "id": "9bhI0nJ61Uqi",
    "outputId": "8477b395-1ae8-46b6-9d46-f6c82fe59adc"
   },
   "outputs": [
    {
     "name": "stdout",
     "output_type": "stream",
     "text": [
      "44.81922473926761\n",
      "0.09724684580019338\n"
     ]
    }
   ],
   "source": [
    "y_pred = model_tuning.predict(x_test)\n",
    "print(np.sqrt(mean_squared_error(y_test,y_pred)))\n",
    "print(r2_score(y_test,y_pred))"
   ]
  },
  {
   "cell_type": "code",
   "execution_count": 0,
   "metadata": {
    "colab": {
     "base_uri": "https://localhost:8080/",
     "height": 87
    },
    "colab_type": "code",
    "id": "f0PyrW8D1ZsQ",
    "outputId": "a3c1ec11-f963-4b6a-bf61-0e4e64047da3"
   },
   "outputs": [
    {
     "data": {
      "text/plain": [
       "{'max_depth': 90,\n",
       " 'max_features': 3,\n",
       " 'min_samples_leaf': 5,\n",
       " 'min_samples_split': 5}"
      ]
     },
     "execution_count": 18,
     "metadata": {
      "tags": []
     },
     "output_type": "execute_result"
    }
   ],
   "source": [
    "model_tuning.best_params_"
   ]
  },
  {
   "cell_type": "code",
   "execution_count": 0,
   "metadata": {
    "colab": {},
    "colab_type": "code",
    "id": "194SwjYS1oRN"
   },
   "outputs": [],
   "source": []
  },
  {
   "cell_type": "markdown",
   "metadata": {
    "colab_type": "text",
    "id": "SSmG7M9_RhHh"
   },
   "source": [
    "# Greadient boosting"
   ]
  },
  {
   "cell_type": "code",
   "execution_count": 0,
   "metadata": {
    "colab": {},
    "colab_type": "code",
    "id": "ibaqafrGRjlM"
   },
   "outputs": [],
   "source": [
    "from sklearn.ensemble import GradientBoostingRegressor\n"
   ]
  },
  {
   "cell_type": "code",
   "execution_count": 0,
   "metadata": {
    "colab": {
     "base_uri": "https://localhost:8080/",
     "height": 175
    },
    "colab_type": "code",
    "id": "-EFq5RzmW4bb",
    "outputId": "41bd8b02-3c9f-4bc1-88ac-ecf82b1edd5b"
   },
   "outputs": [
    {
     "data": {
      "text/plain": [
       "GradientBoostingRegressor(alpha=0.9, criterion='friedman_mse', init=None,\n",
       "             learning_rate=0.1, loss='ls', max_depth=50,\n",
       "             max_features='sqrt', max_leaf_nodes=None,\n",
       "             min_impurity_decrease=0.0, min_impurity_split=None,\n",
       "             min_samples_leaf=1, min_samples_split=2,\n",
       "             min_weight_fraction_leaf=0.0, n_estimators=100,\n",
       "             n_iter_no_change=None, presort='auto', random_state=0,\n",
       "             subsample=1.0, tol=0.0001, validation_fraction=0.1, verbose=0,\n",
       "             warm_start=False)"
      ]
     },
     "execution_count": 61,
     "metadata": {
      "tags": []
     },
     "output_type": "execute_result"
    }
   ],
   "source": [
    "gbrt = GradientBoostingRegressor(random_state=0,\n",
    "                                max_features='sqrt',\n",
    "                                max_depth=50,\n",
    "                                min_samples_split=2,\n",
    "                                min_samples_leaf=1)\n",
    "gbrt.fit(x_train, y_train)"
   ]
  },
  {
   "cell_type": "code",
   "execution_count": 0,
   "metadata": {
    "colab": {
     "base_uri": "https://localhost:8080/",
     "height": 34
    },
    "colab_type": "code",
    "id": "75PkKgbiXQQh",
    "outputId": "aac1198a-5cb3-452d-962e-a32c12d8c95f"
   },
   "outputs": [
    {
     "name": "stdout",
     "output_type": "stream",
     "text": [
      "0.29407887560533663\n"
     ]
    }
   ],
   "source": [
    "gbrt_pred = gbrt.predict(x_test)\n",
    "print(r2_score(y_test,gbrt_pred))"
   ]
  },
  {
   "cell_type": "markdown",
   "metadata": {
    "colab_type": "text",
    "id": "c-3UlRVYZXJf"
   },
   "source": [
    "# Gradient Boosting n_estimator"
   ]
  },
  {
   "cell_type": "code",
   "execution_count": 0,
   "metadata": {
    "colab": {
     "base_uri": "https://localhost:8080/",
     "height": 722
    },
    "colab_type": "code",
    "id": "AHY7MZmnXlGg",
    "outputId": "8f111429-aacf-4c93-b5d7-4e1037bc4ec2"
   },
   "outputs": [
    {
     "name": "stdout",
     "output_type": "stream",
     "text": [
      "############################################################"
     ]
    },
    {
     "data": {
      "image/png": "[encoded data removed]",
      "text/plain": [
       "<matplotlib.figure.Figure at 0x7f85a12cf630>"
      ]
     },
     "metadata": {
      "tags": []
     },
     "output_type": "display_data"
    },
    {
     "data": {
      "image/png": "[encoded data removed]",
      "text/plain": [
       "<matplotlib.figure.Figure at 0x7f85a25a4358>"
      ]
     },
     "metadata": {
      "tags": []
     },
     "output_type": "display_data"
    }
   ],
   "source": [
    "# PLOT\n",
    "grd_tree = DecisionTreeRegressor(random_state=0,max_depth=90,max_features=3,min_samples_leaf=5,min_samples_split=5)\n",
    "gbrt_model = GradientBoostingRegressor(random_state=0)\n",
    "gbrt_rmse = []\n",
    "gbrt_r2_scr = []\n",
    "for i in range(1,61):\n",
    "    gbrt_model.n_estimators = i\n",
    "    gbrt_model.fit(x_train,y_train)\n",
    "    \n",
    "    gbrt_pred = gbrt_model.predict(x_test)\n",
    "    gbrt_r2 = r2_score(y_test,gbrt_pred)\n",
    "    gbrt_rmse_ = np.sqrt(mean_squared_error(y_test,gbrt_pred))\n",
    "    \n",
    "    gbrt_rmse.append(gbrt_rmse_)\n",
    "    gbrt_r2_scr.append(gbrt_r2)\n",
    "    print(\"#\", sep=' ', end='', flush=True) # progress bar\n",
    "    \n",
    "# plt.plot(train_accuracy, \"r-+\", label=\"train accuracy\")\n",
    "plt.plot(gbrt_r2_scr, \"b-+\", label=\"r2 score\")\n",
    "plt.xlabel(\"Number of Models\")\n",
    "plt.ylabel(\"r2 score\")\n",
    "plt.show()\n",
    "plt.plot(gbrt_rmse, \"g-+\", label=\"RMSE\")\n",
    "plt.xlabel(\"Number of Models\")\n",
    "plt.ylabel(\"rmse\")\n",
    "plt.show()"
   ]
  },
  {
   "cell_type": "code",
   "execution_count": 101,
   "metadata": {
    "colab": {
     "base_uri": "https://localhost:8080/",
     "height": 107
    },
    "colab_type": "code",
    "id": "SmFQqUiLYJ0A",
    "outputId": "c8be0611-6ca5-4c9f-c634-36c123bc4f7e"
   },
   "outputs": [
    {
     "name": "stdout",
     "output_type": "stream",
     "text": [
      "40.05541120146768\n",
      "0.2789544126910346\n",
      "[46.29055069823545, 45.544358527053845, 44.905303074030684, 44.20639366022893, 43.67024260259737, 43.20747072598136, 42.829229313869305, 42.50743716800203, 42.21265326511366, 41.95704078730104, 41.770661726653074, 41.52830334216523, 41.44245911058489, 41.23815965157487, 41.17574294120858, 41.118061670994415, 40.97222559813397, 40.94154765174862, 40.844963996593, 40.827456591269616, 40.801588967949726, 40.78461651378073, 40.699896546536216, 40.581365150372434, 40.493850612785536, 40.49368557382438, 40.47261717247604, 40.49784228203451, 40.46832990547147, 40.45227489322996, 40.47459297783645, 40.48536179082411, 40.43567690526987, 40.42482622073812, 40.40809399580684, 40.35641257354971, 40.34730648609555, 40.34256014240767, 40.33531114866612, 40.326027915791286, 40.335437293932024, 40.28097618957485, 40.23282948816136, 40.224736298025846, 40.188652040989716, 40.18149207725469, 40.172958715609894, 40.16488520398565, 40.152103442605465, 40.15103475260965, 40.12445753339581, 40.116768837842635, 40.1149368935792, 40.09440198365595, 40.06553940695967, 40.068667666681215, 40.06245297226793, 40.06325371901227, 40.05541120146768, 40.079284042791826]\n",
      "[0.03700278917905042, 0.06779910918143983, 0.09377591965650323, 0.1217654710302929, 0.14293937436718673, 0.16100760702780803, 0.17563251544671654, 0.1879735465882807, 0.19919710341038788, 0.20886602711267976, 0.21587907214013147, 0.2249518021878142, 0.22815273481231535, 0.23574394941668464, 0.23805570380201857, 0.24018895643853433, 0.24556913972226135, 0.2466984767044057, 0.25024845466248347, 0.25089104996750744, 0.2518399961459906, 0.25246229888699245, 0.2555647231499286, 0.2598944866070936, 0.26308314980900593, 0.2630891566343254, 0.26385576971521996, 0.2629378599308847, 0.2640117210684785, 0.26459558291369056, 0.26378389330492447, 0.263392080679421, 0.2651989472248778, 0.26559325370173525, 0.26620108393401287, 0.26807692195961685, 0.26840718935394625, 0.26857930427214793, 0.2688421327923848, 0.26917864824143334, 0.26883755951675237, 0.27081066476225146, 0.27255278139818395, 0.27284541686928554, 0.2741494435110743, 0.27440805386231415, 0.27471620971675026, 0.2750076992611472, 0.27546905768732044, 0.27550762546329943, 0.2764664361159278, 0.2767436982468109, 0.2768097521698415, 0.27754996749658145, 0.27858972682488536, 0.278477069072816, 0.27870086971550634, 0.2786720355498683, 0.2789544126910346, 0.2780946768434872]\n"
     ]
    }
   ],
   "source": [
    "\n",
    "\n",
    "print(min(gbrt_rmse))\n",
    "print(max(gbrt_r2_scr))\n",
    "print(gbrt_rmse)\n",
    "print(gbrt_r2_scr)"
   ]
  },
  {
   "cell_type": "code",
   "execution_count": 0,
   "metadata": {
    "colab": {},
    "colab_type": "code",
    "id": "on5qX_Psglz1"
   },
   "outputs": [],
   "source": []
  }
 ],
 "metadata": {
  "accelerator": "GPU",
  "colab": {
   "collapsed_sections": [],
   "name": "Data Engineering Magical Codes..ipynb",
   "provenance": [],
   "version": "0.3.2"
  },
  "kernelspec": {
   "display_name": "Python 3",
   "language": "python",
   "name": "python3"
  },
  "language_info": {
   "codemirror_mode": {
    "name": "ipython",
    "version": 3
   },
   "file_extension": ".py",
   "mimetype": "text/x-python",
   "name": "python",
   "nbconvert_exporter": "python",
   "pygments_lexer": "ipython3",
   "version": "3.6.4"
  }
 },
 "nbformat": 4,
 "nbformat_minor": 1
}
